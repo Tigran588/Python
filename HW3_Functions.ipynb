{
 "cells": [
  {
   "cell_type": "markdown",
   "metadata": {
    "colab_type": "text",
    "id": "Z2LhYNT8HigC"
   },
   "source": [
    "Ստորև գրված առաջադրանքները կատարելու վերջնաժամկետը **24.08.2020 16:00** է։ Առաջադրանքները կատարելուց հետո, պետք է \n",
    "\n",
    "1. ներբեռնեք այս ֆայլը ձեր համակարգիչ (`File` $\\to$ `Download .ipynb`)\n",
    "2. վերնագրին ավելացնեք ձեր անուն, ազգանունը լատինատառ, օրինակ՝ *HW3_Functions_NshanPotikyan.ipynb* ֆորմատով\n",
    "3. ուղարկեք ֆայլը **nshanp@fast.foundation** հասցեին` նամակի թեմա (subject) դաշտում գրելով **HW3**\n",
    "\n",
    "**Ուշադրություն**․ \n",
    "1. Վերոնշյալ պայմաններին չբավարարելու դեպքում ձեր աշխատանքը չի գնահատվի։\n",
    "2. Յուրաքանչյուր վարժության կոդը գրելուց հետո աշխատացրեք անմիջապես ներքևի վանդակը, որի մեջ հիմնականում գրված են **assert**֊ով հրամաններ։ Եթե այդ վանդակը աշխատացնելիս ստանում եք `AssertionError`, ապա ինչ֊որ բան սխալ եք արել և եթե ոչինչ չի վերադարձվում, ապա մեծ հավանականությամբ ճիշտ եք լուծել վարժությունը։ \n",
    "3. Ոչինչ մի՛ փոխեք  այն վանդակներում, որտեղ գրված է \"Do not modify this cell\" գրառումը\n",
    "4. Ձեր աշխատանքը գնահատելիս առկա ստուգումներից բացի կարող է կատարվեն այլ ստուգումներ։  \n",
    "\n"
   ]
  },
  {
   "cell_type": "markdown",
   "metadata": {
    "colab_type": "text",
    "id": "GCEodKTbRd_r"
   },
   "source": [
    "# Homework Exercises "
   ]
  },
  {
   "cell_type": "markdown",
   "metadata": {
    "colab_type": "text",
    "id": "1WbPDB3mI7MO"
   },
   "source": [
    "Problem1. Write a function named `file_writer`, which will take as input a text and a file name (as strings), then will create a text file (.txt) with the given file name and will write the given text in it.\n",
    "\n",
    "  Գրել `file_writer` անունով ֆունկցիա, որը որպես մուտքային փոփոխականներ կվերցնի տեքստ և ֆայլի անուն string-ի տեսքով, այնուհետև կստեղծի տեքստային ֆայլ տրված անունով և տրված տեքստը կգրի ֆայլի մեջ։"
   ]
  },
  {
   "cell_type": "code",
   "execution_count": null,
   "metadata": {
    "colab": {},
    "colab_type": "code",
    "id": "hfFxrQ4YI6v7"
   },
   "outputs": [],
   "source": [
    "# your code here\n",
    "\n"
   ]
  },
  {
   "cell_type": "code",
   "execution_count": null,
   "metadata": {
    "colab": {},
    "colab_type": "code",
    "id": "DWL-vj2DECV9"
   },
   "outputs": [],
   "source": [
    "# Do not modify this cell\n",
    "text = \"\"\"Երբ չի մնում ելք ու ճար,\n",
    "Խենթերն են գտնում հնար,\n",
    "Այսպես ծագեց, արեգակեց\n",
    "Սարդարապատի մարտը մեծ:\n",
    "\"\"\"\n",
    "file_writer(text, 'file1.txt')\n",
    "file_writer('Some text', 'file2.txt')"
   ]
  },
  {
   "cell_type": "code",
   "execution_count": 5,
   "metadata": {},
   "outputs": [
    {
     "name": "stdout",
     "output_type": "stream",
     "text": [
      "textasa xosa asa de\n",
      "file:oksi.txt\n"
     ]
    }
   ],
   "source": [
    "def f(text, file_name):\n",
    "  a  = open(file_name, 'w')\n",
    "  a.write(text)\n",
    "  a.close()\n",
    "text = input(\"text\")\n",
    "file_name = input('file:')\n",
    "f(text,file_name)"
   ]
  },
  {
   "cell_type": "markdown",
   "metadata": {
    "colab_type": "text",
    "id": "3HEZ6dl0ekny"
   },
   "source": [
    "Problem2. Write a function called `file_reader`, which will take the name of a text file and will return its content.\n",
    "\n",
    "  Գրել `file_reader` անունով ֆունկցիա, որը կվերցնի տեքստային ֆայլի անունը, ապա կվերադարձնի այդ ֆայլի պարունակությունը։ "
   ]
  },
  {
   "cell_type": "code",
   "execution_count": 9,
   "metadata": {
    "colab": {},
    "colab_type": "code",
    "id": "AgRYItgXek22"
   },
   "outputs": [
    {
     "name": "stdout",
     "output_type": "stream",
     "text": [
      "enter file nameoksi.txt\n"
     ]
    },
    {
     "data": {
      "text/plain": [
       "'asa xosa asa de'"
      ]
     },
     "execution_count": 9,
     "metadata": {},
     "output_type": "execute_result"
    }
   ],
   "source": [
    "def file_reader(f_name):\n",
    "    with open (f_name,\"r\") as ff:\n",
    "        read_file = ff.read()\n",
    "    return read_file\n",
    "f_name = input(\"enter file name\")\n",
    "file_reader(f_name)\n"
   ]
  },
  {
   "cell_type": "code",
   "execution_count": 1,
   "metadata": {
    "colab": {},
    "colab_type": "code",
    "id": "Jx9bZPj9YhV4"
   },
   "outputs": [
    {
     "ename": "NameError",
     "evalue": "name 'file_reader' is not defined",
     "output_type": "error",
     "traceback": [
      "\u001b[0;31m---------------------------------------------------------------------------\u001b[0m",
      "\u001b[0;31mNameError\u001b[0m                                 Traceback (most recent call last)",
      "Cell \u001b[0;32mIn[1], line 2\u001b[0m\n\u001b[1;32m      1\u001b[0m \u001b[38;5;66;03m# Do not modify this cell\u001b[39;00m\n\u001b[0;32m----> 2\u001b[0m \u001b[38;5;28;01massert\u001b[39;00m \u001b[43mfile_reader\u001b[49m(\u001b[38;5;124m'\u001b[39m\u001b[38;5;124mfile1.txt\u001b[39m\u001b[38;5;124m'\u001b[39m) \u001b[38;5;241m==\u001b[39m text\n\u001b[1;32m      3\u001b[0m \u001b[38;5;28;01massert\u001b[39;00m file_reader(\u001b[38;5;124m'\u001b[39m\u001b[38;5;124mfile2.txt\u001b[39m\u001b[38;5;124m'\u001b[39m) \u001b[38;5;241m==\u001b[39m \u001b[38;5;124m'\u001b[39m\u001b[38;5;124mSome text\u001b[39m\u001b[38;5;124m'\u001b[39m\n",
      "\u001b[0;31mNameError\u001b[0m: name 'file_reader' is not defined"
     ]
    }
   ],
   "source": [
    "# Do not modify this cell\n",
    "assert file_reader('file1.txt') == text\n",
    "assert file_reader('file2.txt') == 'Some text'"
   ]
  },
  {
   "cell_type": "markdown",
   "metadata": {
    "colab_type": "text",
    "id": "_OkxDUHEI6kS"
   },
   "source": [
    "Problem3. Write a function called `add_excitement` that takes two arguments \n",
    "1. a list of strings \n",
    "2. boolean variable called `modify`\n",
    "\n",
    " and adds an exclamation\n",
    "point (`!`) to the end of each string in the list. In case modify is `True`, the program should modify the\n",
    "original list and not return anything, otherwise \n",
    "the program should not modify the original list and should\n",
    " return a new list instead.\n",
    "\n",
    "  Գրել `add_excitement` անունով ֆունկցիա, որը կվերցնի երկու մուտքային տվյալ՝\n",
    "  1. string-ների list\n",
    "  2. boolearn փոփոխական՝ `modify` անունով\n",
    "\n",
    "  և list-ի յուրաքանչյուր բառի վերջում կավելացնի բացականչական նշան (`!`)։ Երբ `modify=True`, այդ դեպքում ծրագիրը պետք է կատարի վերոնշյալ փոփոխությունը սկզբնական list-ի վրա և ոչինչ չվերադարձնի, իսկ եթե `modify=False`, այդ դեպքում ծրագիրը պետք է չփոփոխի սկզբնական list-ը և վերադարձնի ստացված նոր list-ը։"
   ]
  },
  {
   "cell_type": "code",
   "execution_count": 16,
   "metadata": {
    "colab": {},
    "colab_type": "code",
    "id": "cTN0Ve60jEqT"
   },
   "outputs": [
    {
     "name": "stdout",
     "output_type": "stream",
     "text": [
      "enter True or FalseFalse\n",
      "['Tiko!', 'Taron!', 'SAmo!'] ['Tiko', 'Taron', 'SAmo']\n"
     ]
    }
   ],
   "source": [
    "def add_excitement(ls,modify):\n",
    "    ls2 = []\n",
    "    if modify == True:\n",
    "        for i in range(len(ls)):\n",
    "            ls[i] += '!'\n",
    "    else:\n",
    "        for i in range(len(ls)):\n",
    "            ls2.append(ls[i]+'!')\n",
    "        return ls2\n",
    "boolean = input(\"enter True or False\")\n",
    "l = [\"Tiko\",\"Taron\",\"SAmo\"]\n",
    "ans = add_excitement(l,boolean)\n",
    "print(ans)           "
   ]
  },
  {
   "cell_type": "code",
   "execution_count": null,
   "metadata": {
    "colab": {},
    "colab_type": "code",
    "id": "51ssfjY2c1u_"
   },
   "outputs": [],
   "source": [
    "# Do not modify this cell\n",
    "list1 = ['dog', 'cat']\n",
    "list2 = add_excitement(list1, False) \n",
    "assert add_excitement(list1, True) is None\n",
    "assert list1 == list2"
   ]
  },
  {
   "cell_type": "markdown",
   "metadata": {
    "colab_type": "text",
    "id": "4TNaI0i1-pxA"
   },
   "source": [
    "Problem4. Write a function called `first_diff` that is given two strings and returns the first location in\n",
    "which the strings differ. If the strings are identical, it should return -1.\n",
    "\n",
    "  Գրել `first_diff` անունով ֆունկցիա, որը տրված երկու string-ների համար վերադարձնում է առաջին ինդեքսը, որտեղ երկու string-ների արժեքները տարբերվում են։ Եթե string-ները ամբողջովին համընկնում են, ապա ֆունկցիան պետք է վերադարձնի -1:"
   ]
  },
  {
   "cell_type": "code",
   "execution_count": 23,
   "metadata": {
    "colab": {},
    "colab_type": "code",
    "id": "043SgZDT-par"
   },
   "outputs": [
    {
     "name": "stdout",
     "output_type": "stream",
     "text": [
      "Input string1: saqo\n",
      "Input string2: sam\n"
     ]
    },
    {
     "data": {
      "text/plain": [
       "2"
      ]
     },
     "execution_count": 23,
     "metadata": {},
     "output_type": "execute_result"
    }
   ],
   "source": [
    "def first_diff(str1,str2):\n",
    "    min_len = min(len(str1),len(str2))\n",
    "\n",
    "    for i in range(min_len):\n",
    "        if str1[i] != str2[i]:\n",
    "            return i\n",
    "    else:\n",
    "        return -1\n",
    "s1 = input('Input string1: ')\n",
    "s2 = input('Input string2: ')\n",
    "answer = first_diff(s1,s2)\n",
    "answer\n"
   ]
  },
  {
   "cell_type": "code",
   "execution_count": 20,
   "metadata": {
    "colab": {},
    "colab_type": "code",
    "id": "HrKl3hN_BnuF"
   },
   "outputs": [
    {
     "ename": "TypeError",
     "evalue": "'int' object is not iterable",
     "output_type": "error",
     "traceback": [
      "\u001b[0;31m---------------------------------------------------------------------------\u001b[0m",
      "\u001b[0;31mTypeError\u001b[0m                                 Traceback (most recent call last)",
      "Cell \u001b[0;32mIn[20], line 2\u001b[0m\n\u001b[1;32m      1\u001b[0m \u001b[38;5;66;03m# Do not modify this cell\u001b[39;00m\n\u001b[0;32m----> 2\u001b[0m \u001b[38;5;28;01massert\u001b[39;00m \u001b[43mfirst_diff\u001b[49m\u001b[43m(\u001b[49m\u001b[38;5;124;43m'\u001b[39;49m\u001b[38;5;124;43mdog\u001b[39;49m\u001b[38;5;124;43m'\u001b[39;49m\u001b[43m,\u001b[49m\u001b[43m \u001b[49m\u001b[38;5;124;43m'\u001b[39;49m\u001b[38;5;124;43mcat\u001b[39;49m\u001b[38;5;124;43m'\u001b[39;49m\u001b[43m)\u001b[49m \u001b[38;5;241m==\u001b[39m \u001b[38;5;241m0\u001b[39m\n\u001b[1;32m      3\u001b[0m \u001b[38;5;28;01massert\u001b[39;00m first_diff(\u001b[38;5;124m'\u001b[39m\u001b[38;5;124mdog\u001b[39m\u001b[38;5;124m'\u001b[39m, \u001b[38;5;124m'\u001b[39m\u001b[38;5;124mdog\u001b[39m\u001b[38;5;124m'\u001b[39m) \u001b[38;5;241m==\u001b[39m \u001b[38;5;241m-\u001b[39m\u001b[38;5;241m1\u001b[39m\n\u001b[1;32m      4\u001b[0m \u001b[38;5;28;01massert\u001b[39;00m first_diff(\u001b[38;5;124m'\u001b[39m\u001b[38;5;124mdog\u001b[39m\u001b[38;5;124m'\u001b[39m, \u001b[38;5;124m'\u001b[39m\u001b[38;5;124mdon\u001b[39m\u001b[38;5;124m'\u001b[39m) \u001b[38;5;241m==\u001b[39m \u001b[38;5;241m2\u001b[39m\n",
      "Cell \u001b[0;32mIn[18], line 4\u001b[0m, in \u001b[0;36mfirst_diff\u001b[0;34m(str1, str2)\u001b[0m\n\u001b[1;32m      1\u001b[0m \u001b[38;5;28;01mdef\u001b[39;00m \u001b[38;5;21mfirst_diff\u001b[39m(str1,str2):\n\u001b[1;32m      2\u001b[0m     min_len \u001b[38;5;241m=\u001b[39m \u001b[38;5;28mmin\u001b[39m(\u001b[38;5;28mlen\u001b[39m(str1),\u001b[38;5;28mlen\u001b[39m(str2))\n\u001b[0;32m----> 4\u001b[0m     \u001b[38;5;28;01mfor\u001b[39;00m i \u001b[38;5;129;01min\u001b[39;00m min_len:\n\u001b[1;32m      5\u001b[0m         \u001b[38;5;28;01mif\u001b[39;00m str1[i] \u001b[38;5;241m!=\u001b[39m str2[i]:\n\u001b[1;32m      6\u001b[0m             \u001b[38;5;28;01mreturn\u001b[39;00m i\n",
      "\u001b[0;31mTypeError\u001b[0m: 'int' object is not iterable"
     ]
    }
   ],
   "source": [
    "# Do not modify this cell\n",
    "assert first_diff('dog', 'cat') == 0\n",
    "assert first_diff('dog', 'dog') == -1\n",
    "assert first_diff('dog', 'don') == 2"
   ]
  },
  {
   "cell_type": "markdown",
   "metadata": {
    "colab_type": "text",
    "id": "32hdDmh3VHfY"
   },
   "source": [
    "Problem5. Write a function named `rand_number` that takes an integer `n` and returns a random positive integer with exactly `n` digits. For\n",
    "example, if `n` is 3, then 125 and 593 would be valid return values, but 093 would not because\n",
    "that is really 93, which is a two-digit number.\n",
    "\n",
    "  Գրել `rand_number` անունով ֆունկցիա, որը վերցնում է ամբողջ թիվ `n` անունով և վերադարձնում է պատահական դրական ամբողջ թիվ, որը պարունակում է `n` թվանշան։ Օրինակ՝ եթե `n=3`, ապա 125 կամ 593-ը կլինեին բավարար պատասխաններ, բայց օրինակ 093-ը՝ ոչ, քանի որ այդպիսի ամբողջ թիվ չկա, չնայած, որ այն պարունակում է 3 նիշ։  \n"
   ]
  },
  {
   "cell_type": "code",
   "execution_count": 29,
   "metadata": {
    "colab": {},
    "colab_type": "code",
    "id": "8OmuGQjqVHjn"
   },
   "outputs": [
    {
     "name": "stdout",
     "output_type": "stream",
     "text": [
      "input intejer: 3\n"
     ]
    },
    {
     "data": {
      "text/plain": [
       "391"
      ]
     },
     "execution_count": 29,
     "metadata": {},
     "output_type": "execute_result"
    }
   ],
   "source": [
    "import random    #!!!!\n",
    "def rand_number(n):\n",
    "    a = 10**(n-1)\n",
    "    b = 10**n -1\n",
    "    return random.randint(a,b)\n",
    "n = int(input(\"input intejer: \"))\n",
    "answer = rand_number(n)\n",
    "answer\n",
    "    "
   ]
  },
  {
   "cell_type": "code",
   "execution_count": null,
   "metadata": {
    "colab": {},
    "colab_type": "code",
    "id": "wmUpHS-k-2LS"
   },
   "outputs": [],
   "source": [
    "# Do not modify this cell\n",
    "assert 1 <= rand_number(1) <= 9\n",
    "assert 10 <= rand_number(2) <= 99\n",
    "assert 100 <= rand_number(3) <= 999\n",
    "assert 1000 <= rand_number(4) <= 9999 "
   ]
  },
  {
   "cell_type": "markdown",
   "metadata": {
    "colab_type": "text",
    "id": "YUaFYy8OIHWp"
   },
   "source": [
    "Problem6. Write a function called `closest` that takes a list of numbers `L` and a number `n` and returns\n",
    "the largest element in `L` that is not larger than `n`. For instance, if `L=[1,6,3,9,11]` and `n=8`,\n",
    "then the function should return `6`, because `6` is the closest thing in `L` to `8` that is not larger than\n",
    "`8`. If all numbers in the list are larger than `n`., then the function should return `Enter another list`.\n",
    "\n",
    "  Գրել `closest` անունով ֆունկցիա, որը վերցնում է թվերի list `L` անունով, ինչ-որ թիվ որպես `n` և վերադարձնում է `L` list-ի այն թիվը որն ամենամոտն է տրված `n`-ին, բայց մեծ չէ `n`-ից։ Եթե list-ի բոլոր թվերը մեծ են `n`-ից, ապա ֆունկցիան պետք է վերադարձնի `Enter another list`:"
   ]
  },
  {
   "cell_type": "code",
   "execution_count": 50,
   "metadata": {
    "colab": {},
    "colab_type": "code",
    "id": "xrSVUy31IHeV"
   },
   "outputs": [
    {
     "name": "stdout",
     "output_type": "stream",
     "text": [
      "5\n"
     ]
    }
   ],
   "source": [
    "def closest(L,n):\n",
    "    minn = float(\"-inf\")\n",
    "    obj = 0\n",
    "    low = min(L)\n",
    "    if low > n:\n",
    "        return \"enter anothe rlist\"\n",
    "    for i in L:\n",
    "        if i - n <= 0:\n",
    "            if i -n >= minn:\n",
    "                minn = i - n\n",
    "                obj = i\n",
    "    return obj\n",
    "\n",
    "l = [1,2,3,4,5]\n",
    "b =9\n",
    "ans= closest(l,b)\n",
    "print(ans)\n",
    "    "
   ]
  },
  {
   "cell_type": "code",
   "execution_count": null,
   "metadata": {
    "colab": {},
    "colab_type": "code",
    "id": "ReO3DLic_2aW"
   },
   "outputs": [],
   "source": [
    "# Do not modify this cell\n",
    "assert closest([1, 6, 3, 9, 11], 8) == 6\n",
    "assert closest([51, 61, 31, 91, 111], 18) == 'Enter another list'\n",
    "assert closest([1.03, 3.2, 3, 3.9, 7.67], 3.99) == 3.9"
   ]
  },
  {
   "cell_type": "markdown",
   "metadata": {
    "colab_type": "text",
    "id": "FgcH-562IHlB"
   },
   "source": [
    "Problem7. Write a function called `matches` that takes two strings as arguments and returns how many\n",
    "matches there are between the strings. A match is where the two strings have the same character\n",
    "at the same index. For instance, `'python'` and `'path'` match in the first, third, and\n",
    "fourth characters, so the function should return 3.\n",
    "\n",
    "  Գրել `matches` անունով ֆունկցիա, որը կվերադարձնի տրված երկու string-ների սիմվոլների համընկումների քանակը։ Օրինակ՝ `'python'` և `'path'` string-ների համար, արդյունքը կլինի 3, քանի որ առաջին, երրորդ և չորրորդ սիմվոլները նույնն են։"
   ]
  },
  {
   "cell_type": "code",
   "execution_count": 1,
   "metadata": {
    "colab": {},
    "colab_type": "code",
    "id": "KMqAiNsGIHsU"
   },
   "outputs": [
    {
     "name": "stdout",
     "output_type": "stream",
     "text": [
      "enter 1st string: python\n",
      "enter 2st string: path\n"
     ]
    },
    {
     "data": {
      "text/plain": [
       "3"
      ]
     },
     "execution_count": 1,
     "metadata": {},
     "output_type": "execute_result"
    }
   ],
   "source": [
    "def matches(s1,s2):\n",
    "    count  = 0\n",
    "    min_len = min(len(s1),len(s2))\n",
    "    for i in range(min_len):\n",
    "        if s1[i] == s2[i]:\n",
    "            count+=1\n",
    "    return count\n",
    "str1 = input(\"enter 1st string: \")\n",
    "str2 = input(\"enter 2st string: \")\n",
    "p = matches(str1,str2)\n",
    "p"
   ]
  },
  {
   "cell_type": "code",
   "execution_count": 53,
   "metadata": {
    "colab": {},
    "colab_type": "code",
    "id": "NOY62RlYDBGH"
   },
   "outputs": [],
   "source": [
    "# Do not modify this cell\n",
    "assert matches('python', 'path') == 3\n",
    "assert matches('path', 'pathway') == 4\n",
    "assert matches('abcd', 'dcba') == 0"
   ]
  },
  {
   "cell_type": "markdown",
   "metadata": {
    "colab_type": "text",
    "id": "IicCIcQvIHxY"
   },
   "source": [
    "Problem8. Write a function called `findall` that\n",
    "given a string and a single character, returns a list containing all of the locations (indices) of that character\n",
    "in the string. It should return `None` if there are no occurrences of the character\n",
    "in the string.\n",
    "\n",
    "  Գրել `findall` անունով ֆունկցիա, որը տրված string-ի և սիմվոլի համար վերադարձնում է list, որում string-ի այն ինդեքսներն են, որտեղ գրված է տրված սիմվոլը։ Եթե տրված սիմվոլը բացակայում է string-ից, ուրեմն պետք է վերադարձնել `None`: Օրինակ՝ `antarctida` string-ի և `a` սիմվոլի համար ֆունկցիան պետք է վերադարձնի `[0,3,9]` list-ը։\n",
    "  "
   ]
  },
  {
   "cell_type": "code",
   "execution_count": 6,
   "metadata": {
    "colab": {},
    "colab_type": "code",
    "id": "gW2JdxzWIH4g"
   },
   "outputs": [
    {
     "name": "stdout",
     "output_type": "stream",
     "text": [
      "[3, 5, 7]\n"
     ]
    }
   ],
   "source": [
    " def findall(string,s):\n",
    "        l = []\n",
    "        for i in range(len(string)):\n",
    "            if string[i] == s:\n",
    "                l.append(i)\n",
    "        if len(l) != 0:\n",
    "            return l\n",
    "        else:\n",
    "            return None\n",
    "st= 'Abrahama'\n",
    "a = \"a\"\n",
    "print(findall(st,a))\n",
    "        "
   ]
  },
  {
   "cell_type": "code",
   "execution_count": 10,
   "metadata": {
    "colab": {},
    "colab_type": "code",
    "id": "GPqn62LNEWXs"
   },
   "outputs": [
    {
     "data": {
      "text/plain": [
       "True"
      ]
     },
     "execution_count": 10,
     "metadata": {},
     "output_type": "execute_result"
    }
   ],
   "source": [
    "l = \"asD\"\n",
    "l[2].isupper()"
   ]
  },
  {
   "cell_type": "markdown",
   "metadata": {
    "colab_type": "text",
    "id": "MEC70di4IH_O"
   },
   "source": [
    "Problem9. Write a function called `change_case` that given a string, returns a string with each upper\n",
    "case letter replaced by a lower case letter and vice-versa.\n",
    "\n",
    "  Գրել `change_case` անունով ֆունկցիա, որը տրված string-ի համար վերադարձնում է մեկ այլ string, որտեղ յուրաքանչյուր փոքրատառ տառ գրված է մեծատառով և հակառակը։ Օրինակ՝ `Hello` string-ի համար պետք է վերադարձնի `hELLO`: Հուշում․ կարելի է օգտագործել string-ների `isupper()` և `islower()` մեթոդները։  "
   ]
  },
  {
   "cell_type": "code",
   "execution_count": 16,
   "metadata": {
    "colab": {},
    "colab_type": "code",
    "id": "wU6-9X9zIIFe"
   },
   "outputs": [
    {
     "name": "stdout",
     "output_type": "stream",
     "text": [
      "tIgRAN\n"
     ]
    }
   ],
   "source": [
    "def change_case(str1):\n",
    "    str2 =\"\"\n",
    "    for i in range(len(str1)):\n",
    "        if str1[i].isupper() == True:\n",
    "                str2 += str1[i].lower()\n",
    "        elif str1[i].islower() == True:\n",
    "                str2 +=  str1[i].upper()\n",
    "    return str2\n",
    "s = \"TiGran\"\n",
    "print(change_case(s))"
   ]
  },
  {
   "cell_type": "code",
   "execution_count": null,
   "metadata": {
    "colab": {},
    "colab_type": "code",
    "id": "fgYokOglpHJO"
   },
   "outputs": [],
   "source": [
    "# Do not modify this cell\n",
    "assert change_case('Hello') == 'hELLO'\n",
    "assert change_case('HELLO') == 'hello'\n",
    "assert change_case('hello') == 'HELLO'\n",
    "assert change_case('Unit1991') == 'uNIT1991'"
   ]
  },
  {
   "cell_type": "markdown",
   "metadata": {
    "colab_type": "text",
    "id": "DX4939I0Kdqt"
   },
   "source": [
    "Problem10. Write a function called `is_sorted` that is given a list and returns `True` if the list is sorted\n",
    "and `False` otherwise.\n",
    "\n",
    "  Գրել `is_sorted` անունով ֆունկցիա, որը տրված list-ի համար վերադարձնում է `True`, եթե list-ը սորտավորված է (աճման կարգով) և `False`՝ հակառակ դեպքում"
   ]
  },
  {
   "cell_type": "code",
   "execution_count": 19,
   "metadata": {
    "colab": {},
    "colab_type": "code",
    "id": "bAKqzpv6KfDJ"
   },
   "outputs": [
    {
     "name": "stdout",
     "output_type": "stream",
     "text": [
      "True\n"
     ]
    }
   ],
   "source": [
    "def is_sorted(ls):\n",
    "    if ls == sorted(ls):\n",
    "        return True\n",
    "    else:\n",
    "        return False\n",
    "l = [1,3,4]\n",
    "print(is_sorted(l))"
   ]
  },
  {
   "cell_type": "code",
   "execution_count": null,
   "metadata": {
    "colab": {},
    "colab_type": "code",
    "id": "nRmoCYO2FDzj"
   },
   "outputs": [],
   "source": [
    "# Do not modify this cell\n",
    "assert is_sorted([0,1,2,3])\n",
    "assert not is_sorted([3,1,2,3])\n",
    "assert is_sorted([0,1,2,3,3,4,4,4])"
   ]
  },
  {
   "cell_type": "markdown",
   "metadata": {
    "colab_type": "text",
    "id": "3sutpNpEDrgB"
   },
   "source": [
    "Problem11. Write a called `sum_even` function with one line which will return True if the sum of input numbers is even, else it should return False.\n",
    "\n",
    "  Գրել մեկ տողանի ֆունկցիա `sum_even` անունով, որը կվերադարձնի True, եթե տրված մուտքային տվյալների գումարը զույգ է և False՝ հակառակ դեպքում։"
   ]
  },
  {
   "cell_type": "code",
   "execution_count": 23,
   "metadata": {
    "colab": {},
    "colab_type": "code",
    "id": "dk8eDqtDDrnV"
   },
   "outputs": [
    {
     "data": {
      "text/plain": [
       "False"
      ]
     },
     "execution_count": 23,
     "metadata": {},
     "output_type": "execute_result"
    }
   ],
   "source": [
    "def sum_even(*num):\n",
    "    return sum(num) %2 == 0\n",
    "sum_even(1,2,3,4,5)"
   ]
  },
  {
   "cell_type": "code",
   "execution_count": null,
   "metadata": {
    "colab": {},
    "colab_type": "code",
    "id": "vXxZHhNGDrr2"
   },
   "outputs": [],
   "source": [
    "# Do not modify this cell\n",
    "assert not sum_even(2, 3, 3, 5)\n",
    "assert not sum_even(2, 3)\n",
    "assert sum_even(2, 3, 3, 5, 2, 3, 4, 5, 7)\n",
    "assert sum_even(2)"
   ]
  },
  {
   "cell_type": "markdown",
   "metadata": {
    "colab_type": "text",
    "id": "NchkNfHVDrwQ"
   },
   "source": [
    "Problem12. Write a function called `number_of_vowels` which will return the number of vowels ('o', 'a', 'u', 'i', 'e') in a string.\n",
    "\n",
    "  Գրել `number_of_vowels` անունով ֆունկցիա, որը կվերադարձնի դրա մեջ տրված string-ի մեջ եղած ձայնավորների ('o', 'a', 'u', 'i', 'e') քանակը։"
   ]
  },
  {
   "cell_type": "code",
   "execution_count": 26,
   "metadata": {
    "colab": {},
    "colab_type": "code",
    "id": "a-0UcEN-Dr0R"
   },
   "outputs": [
    {
     "name": "stdout",
     "output_type": "stream",
     "text": [
      "enter stringTigran\n",
      "2\n"
     ]
    }
   ],
   "source": [
    "def vowels(str1):\n",
    "    count = 0\n",
    "    for i in str1:\n",
    "        if i in [\"a\",\"o\",\"u\",\"i\",\"e\"]:\n",
    "            count += 1\n",
    "    return count\n",
    "s = input(\"enter string\")\n",
    "print(vowels(s))"
   ]
  },
  {
   "cell_type": "code",
   "execution_count": null,
   "metadata": {
    "colab": {},
    "colab_type": "code",
    "id": "Qy7tbKmYDr4T"
   },
   "outputs": [],
   "source": [
    "# Do not modify this cell\n",
    "assert number_of_vowels('Antarctida') == 4\n",
    "assert number_of_vowels('qwrtyp') == 0\n",
    "assert number_of_vowels('These letters are vowels in English') == 11"
   ]
  },
  {
   "cell_type": "markdown",
   "metadata": {
    "colab_type": "text",
    "id": "pyTgpK31Dr8e"
   },
   "source": [
    "Problem13. Write a function called `verbose` that, given an integer less than 1000, returns the name of\n",
    "the integer in Armenian. As an example, `verbose(123)` should return `հարյուր քսաներեք`.\n",
    "\n",
    "  Գրել `verbose` անունով ֆունկցիա, որը 1000-ից փոքր դրական ամբողջ թվի համար վերադարձնում է թվի անվանումը հայերեն, օրինակ՝ verbose(123)-ը պետք է վերադարձնի `հարյուր քսաներեք`։"
   ]
  },
  {
   "cell_type": "code",
   "execution_count": 100,
   "metadata": {
    "colab": {},
    "colab_type": "code",
    "id": "8Nua9FobDsAb"
   },
   "outputs": [
    {
     "name": "stdout",
     "output_type": "stream",
     "text": [
      "enter integer number: 6\n",
      "վեց\n"
     ]
    }
   ],
   "source": [
    "number  = int(input(\"enter integer number: \"))\n",
    "\n",
    "def verbose(n):\n",
    "    ones = ['','մեկ',\"երկու\",\"երեք\",\"չորս\",\"հինգ\",\"վեց\",\"յոթ\",\"ութ\",\"իննը\"]\n",
    "    tens = ['',\"տաս\",\"քսան\",\"երեսուն\",\"քարասուն\",\"հիսուն\",\"վաթսուն\",\"յոթանասուն\",\"ութանասուն\",\"ինսուն\"]\n",
    "    houndreds = ['',\"հարյուր\",\"երկուհարյուր\",\"երեքհարյուր\",\"չորսհարհյուր\",\"հինգհարյուր\",\"վեցհարյուր\",\"յոթհարյուր\",\"ութհարյուր\",\"ինըհարյուր\"]\n",
    "    if n < 10:\n",
    "        print(ones[n])\n",
    "    elif n >= 10 and n <= 99:\n",
    "        return tens[n//10]+' '+ ones[n%10]\n",
    "    elif n >= 100 and n <= 999:\n",
    "        return houndreds[n//100]+ \" \"+ tens[(n%100)//10]+ \" \"+ ones[n%10]\n",
    "    \n",
    "verbose(number)        "
   ]
  },
  {
   "cell_type": "code",
   "execution_count": 99,
   "metadata": {
    "colab": {},
    "colab_type": "code",
    "id": "AahthD78Fc2v"
   },
   "outputs": [
    {
     "ename": "AssertionError",
     "evalue": "",
     "output_type": "error",
     "traceback": [
      "\u001b[0;31m---------------------------------------------------------------------------\u001b[0m",
      "\u001b[0;31mAssertionError\u001b[0m                            Traceback (most recent call last)",
      "Cell \u001b[0;32mIn[99], line 2\u001b[0m\n\u001b[1;32m      1\u001b[0m \u001b[38;5;66;03m# Do not modify this cell\u001b[39;00m\n\u001b[0;32m----> 2\u001b[0m \u001b[38;5;28;01massert\u001b[39;00m verbose(\u001b[38;5;241m123\u001b[39m) \u001b[38;5;241m==\u001b[39m \u001b[38;5;124m'\u001b[39m\u001b[38;5;124mհարյուր քսաներեք\u001b[39m\u001b[38;5;124m'\u001b[39m\n\u001b[1;32m      3\u001b[0m \u001b[38;5;28;01massert\u001b[39;00m verbose(\u001b[38;5;241m267\u001b[39m) \u001b[38;5;241m==\u001b[39m \u001b[38;5;124m'\u001b[39m\u001b[38;5;124mերկու հարյուր վաթսունյոթ\u001b[39m\u001b[38;5;124m'\u001b[39m\n\u001b[1;32m      4\u001b[0m \u001b[38;5;28;01massert\u001b[39;00m verbose(\u001b[38;5;241m89\u001b[39m) \u001b[38;5;241m==\u001b[39m \u001b[38;5;124m'\u001b[39m\u001b[38;5;124mութսունինը\u001b[39m\u001b[38;5;124m'\u001b[39m\n",
      "\u001b[0;31mAssertionError\u001b[0m: "
     ]
    }
   ],
   "source": [
    "# Do not modify this cell\n",
    "assert verbose(123) == 'հարյուր քսաներեք'\n",
    "assert verbose(267) == 'երկու հարյուր վաթսունյոթ'\n",
    "assert verbose(89) == 'ութսունինը'\n",
    "assert verbose(11) == 'տասնմեկ'\n",
    "assert verbose(10) == 'տասը'\n",
    "assert verbose(5) == 'հինգ'"
   ]
  },
  {
   "cell_type": "markdown",
   "metadata": {
    "colab_type": "text",
    "id": "3Z3km5ZJFegE"
   },
   "source": [
    "Problem14. Write a function called `calc` that accepts a sentence and calculates the number of letters, digits and returns as a tuple.\n",
    "Suppose the following input is supplied to the program:\n",
    "`hello world! 123`\n",
    "Then, the output should be a tuple with  `(10, 3)`:\n",
    "\n",
    "  Գրել `calc` անունով ֆունկցիա, որը կվերցնի նախադասություն և կվերադարձնի դրա մեջ հանդիպած տառերի և թվանշանների քանակը որպես tuple: Օրինակ՝ `calc('hello world! 123')=(10, 3)`։ "
   ]
  },
  {
   "cell_type": "code",
   "execution_count": 40,
   "metadata": {
    "colab": {},
    "colab_type": "code",
    "id": "NS7CNcu_Felh"
   },
   "outputs": [
    {
     "name": "stdout",
     "output_type": "stream",
     "text": [
      "enter str:Samo 23\n",
      "(2, 4)\n"
     ]
    }
   ],
   "source": [
    "def calc(s):\n",
    "    count1,count2= 0,0\n",
    "    \n",
    "    for i in s:\n",
    "        if i.isdigit() ==True:\n",
    "            count1+=1\n",
    "        elif i.isalpha() == True:\n",
    "            count2 +=1\n",
    "    return count1,count2\n",
    "n = input(\"enter str:\")\n",
    "print(calc(n))\n",
    "\n",
    "        \n",
    "    "
   ]
  },
  {
   "cell_type": "code",
   "execution_count": null,
   "metadata": {
    "colab": {},
    "colab_type": "code",
    "id": "3W3FCirZFep3"
   },
   "outputs": [],
   "source": [
    "# Do not modify this cell\n",
    "assert calc('hello world! 123') == (10, 3)\n",
    "assert calc('1994') == (0, 4)\n",
    "assert calc('hello world!') == (10, 0)\n",
    "assert calc('@#^$*&!') == (0, 0)"
   ]
  },
  {
   "cell_type": "markdown",
   "metadata": {
    "colab_type": "text",
    "id": "si8p60R3FnB1"
   },
   "source": [
    "Problem15. Assuming that we have some email addresses in the \"username@companyname.com\" format, please write a function called `email_to_username` to print the user name of a given email address. Both user names and company names are composed of letters only.\n",
    "\n",
    "  Գրել `email_to_username` անունով ֆունկցիա, որը կվերցնի \"username@companyname.com\" ֆորմատի վանակացած email հասցե և կվերադարձնի username-ը։"
   ]
  },
  {
   "cell_type": "code",
   "execution_count": 44,
   "metadata": {
    "colab": {},
    "colab_type": "code",
    "id": "DWvVGi9iFnGl"
   },
   "outputs": [
    {
     "name": "stdout",
     "output_type": "stream",
     "text": [
      "babayant\n"
     ]
    }
   ],
   "source": [
    "def email(company):\n",
    "    l = company.split(\"@\")\n",
    "    return l[0]\n",
    "c = \"babayant@gmail.com\"\n",
    "f = email(c)\n",
    "print(f)"
   ]
  },
  {
   "cell_type": "code",
   "execution_count": null,
   "metadata": {
    "colab": {},
    "colab_type": "code",
    "id": "lzXeIyaPFevC"
   },
   "outputs": [],
   "source": [
    "# Do not modify this cell\n",
    "assert email_to_username('nshan@gmail.com') == 'nshan'\n",
    "assert email_to_username('aramhayrapetyan@google.com') == 'aramhayrapetyan'\n",
    "assert email_to_username('hayrapetyan@yahoo.com') == 'hayrapetyan'"
   ]
  },
  {
   "cell_type": "markdown",
   "metadata": {
    "colab_type": "text",
    "id": "urpwiR2SFeyr"
   },
   "source": [
    "Problem16. Write a function called `merge` that takes two already sorted lists of possibly different lengths,\n",
    "and merges them into a single sorted list without using the `sort` method or `sorted` function.\n",
    "\n",
    "  Գրել `merge` անունով ֆունկցիա, որը վերցնում է տարբեր երկարության երկու դասավորված list-եր և միացնում է դրանք՝ վերադարձնելով դրանց դասավորված տարբերակը առանց օգտագործելու `sort` մեթոդը կամ `sorted` ֆունկցիան։"
   ]
  },
  {
   "cell_type": "code",
   "execution_count": 108,
   "metadata": {
    "colab": {},
    "colab_type": "code",
    "id": "om-MeP3YFe3X"
   },
   "outputs": [
    {
     "name": "stdout",
     "output_type": "stream",
     "text": [
      "[125, 78, 67, 52, 45, 38, 2, 1, -2]\n"
     ]
    }
   ],
   "source": [
    "list1 = [1,2,52,67]\n",
    "list2 = [-2,38,45,78,125]\n",
    "def merge(l1,l2):\n",
    "    l3 = l1 + l2\n",
    "    for i in range(len(l3)):\n",
    "        for j in range(len(l3)):\n",
    "            if l3[i] > l3[j]:\n",
    "                l3[j],l3[i] = l3[i],l3[j]\n",
    "    return l3\n",
    "print(merge(list1,list2))\n",
    "            \n",
    "\n",
    "                 "
   ]
  },
  {
   "cell_type": "code",
   "execution_count": 106,
   "metadata": {},
   "outputs": [
    {
     "data": {
      "text/plain": [
       "[1, 2, 52, 67, -2, 38, 45, 78, 125]"
      ]
     },
     "execution_count": 106,
     "metadata": {},
     "output_type": "execute_result"
    }
   ],
   "source": [
    "list1 = [1,2,52,67]\n",
    "list2 = [-2,38,45,78,125]\n",
    "l3 = list1 +list2\n",
    "l3"
   ]
  },
  {
   "cell_type": "code",
   "execution_count": null,
   "metadata": {
    "colab": {},
    "colab_type": "code",
    "id": "kEgI-ofjFe7Z"
   },
   "outputs": [],
   "source": [
    "# Do not modify this cell\n",
    "assert merge([1, 2, 5], [2, 3, 4]) == [1, 2, 2, 3, 4, 5]\n",
    "assert merge([11, 25, 105],[2, 4, 38]) == [2, 4, 11, 25, 38, 105]\n",
    "assert merge([11, 25, 105],\n",
    "             [1, 2, 3, 4, 5, 6, 7]) == [1, 2, 3, 4, 5, 6, 7, 11, 25, 105]"
   ]
  },
  {
   "cell_type": "markdown",
   "metadata": {
    "colab_type": "text",
    "id": "MqNXa8vkF1Yp"
   },
   "source": [
    "Problem17. Write a function called `root` that is given a number `x` and an integer `n` and returns $x^\\frac{1}{n}$. In\n",
    "the function definition, set the default value of `n` to `2`.\n",
    "\n",
    "  Գրել `root` անունով ֆունկցիա, որը վերցնում է `x` դրական թիվ և `n` ամբողջ թիվ և վերադարձնում է $x^\\frac{1}{n}$։ Ֆուկցիայի սահմանման մեջ `n`-ի սկզբնական արժեքը դնել 2:\n"
   ]
  },
  {
   "cell_type": "code",
   "execution_count": 61,
   "metadata": {
    "colab": {},
    "colab_type": "code",
    "id": "y6RVEgOyF1dl"
   },
   "outputs": [
    {
     "name": "stdout",
     "output_type": "stream",
     "text": [
      "1.2599210498948732\n"
     ]
    }
   ],
   "source": [
    "def root(x,n=2):\n",
    "    return x**(1/n)\n",
    "print(root(4,6))"
   ]
  },
  {
   "cell_type": "code",
   "execution_count": null,
   "metadata": {
    "colab": {},
    "colab_type": "code",
    "id": "C8ht4-hFF7Lm"
   },
   "outputs": [],
   "source": [
    "# Do not modify this cell\n",
    "assert root(25, 2) == 5.0\n",
    "assert root(16) == 4.0\n",
    "assert root(81, 4) == 3.0"
   ]
  },
  {
   "cell_type": "markdown",
   "metadata": {
    "colab_type": "text",
    "id": "MVh8b7q3F-BR"
   },
   "source": [
    "Problem18. Download the `Lab5_article.txt` file to your computer from `Courses/Labs/Lab_files` folder and upload it into your Colab directory.\n",
    "\n",
    "Go over the article and count the frequency of each word. Ignore the following words `{the, of, and, in, to, a, was, on, by, is, which}` and symbols `{'\\n', '(', ')', '.', ' - ', ':', ','}`, also ignore the letter cases (treat all letters as lower case). You should write the overall results to an `output.txt` file, where each line should contain the words and word frequences (separated by a tab '\\t') in descending order of the frequences.\n",
    "\n",
    "  `Courses/Labs/Lab_files` folder֊ից ներբեռնիր `Lab5_article.txt` ֆայլը համակարգչիդ մեջ այնուհետև վերբեռնիր այն Google Colab: Գրիր ծրագիր, որի միջոցով կկարդաս հոդվածը և կհաշվես բառերի հաճախականությունները՝ անտեսելով հետևյալ բառերը․ `{the, of, and, in, to, a, was, on, by, is, which}` և կետադրական նշանները `{'\\n', '(', ')', '.', ' - ', ':', ','}`, ինչպես նաև մեծատառ/փոքրատառերը։ Վերջնարդյունքը պետք է լինի `output.txt` ֆայլի մեջ, որտեղ ամեն տողում գրված կլինի մեկ բառ և դրան համապատասխան հաճախականությունը առանձնացված թաբով ('\\t'), ընդ որում բառերը պետք է գրված լինեն հաճախականությունների նվազման կարգով։"
   ]
  },
  {
   "cell_type": "code",
   "execution_count": null,
   "metadata": {
    "colab": {},
    "colab_type": "code",
    "id": "0yNbT2zeF-RR"
   },
   "outputs": [],
   "source": [
    "# your code here\n",
    "# Hints: you might want to use string methods such as .replace(), .split()\n",
    "with open('Lab5_article.txt') as f:\n",
    "  # your code here\n",
    "\n",
    "\n",
    "  "
   ]
  },
  {
   "cell_type": "code",
   "execution_count": 109,
   "metadata": {},
   "outputs": [
    {
     "data": {
      "text/plain": [
       "'grac chi'"
      ]
     },
     "execution_count": 109,
     "metadata": {},
     "output_type": "execute_result"
    }
   ],
   "source": [
    "'!!!!!!!'\n",
    "\"grac chi\""
   ]
  },
  {
   "cell_type": "code",
   "execution_count": null,
   "metadata": {
    "colab": {},
    "colab_type": "code",
    "id": "PXbYsx49F-bF"
   },
   "outputs": [],
   "source": [
    "# Do not modify this cell\n",
    "with open('output.txt') as f:\n",
    "  assert f.readline().replace('\\n','').split('\\t') == ['nagorno-karabakh', '34']\n",
    "  assert f.readline().replace('\\n','').split('\\t') == ['azerbaijan', '25']\n",
    "  assert f.readline().replace('\\n','').split('\\t') == ['armenian', '19']\n",
    "  assert f.readline().replace('\\n','').split('\\t') == ['armenia', '14']\n",
    "  assert f.readline().replace('\\n','').split('\\t') == ['ssr', '12']"
   ]
  },
  {
   "cell_type": "markdown",
   "metadata": {
    "colab_type": "text",
    "id": "o7TRK0tsHGQ7"
   },
   "source": [
    "Problem19. Suppose weapon assignment is done in the following manner: \n",
    "The soldiers who\n",
    "\n",
    "* are tall (strictly above 180 cm) and slim (below 75 kg), SVD rifle will be assigned to them\n",
    "* are tall (strictly above 180 cm) and phisically well trained (above 75 kg below 120 kg), PK machine gun will be assigned to them\n",
    "* are not so tall (below ($\\leq$) 180 cm and above 165 cm) and weight above 60 kg and less than or equal to 75 kg, RPK-74 is assigned to them\n",
    "* don't belong to any of these groups, AK-74 is assigned to them.\n",
    "\n",
    "Write a function called `weapon_assigner` that takes a soldier's info as a dictionary and returns a list with the following info ['name', 'weapon'].\n",
    "\n",
    "  Դիցուք՝ զինատեսակի ամրակցումը տեղի է ունենում հետևյալ օրենքով․ եթե զինծառայողը\n",
    "\n",
    "  * բարձրահասակ է (>180cm) և նիհար(<75kg), նրա զենքը կլինի SVD տիպի\n",
    "  * բարձրահասակ է (>180cm) և ֆիզիկապես լավ պատրաստված(75kg֊ից ավել և 120 կգ֊ից պակաս), նրա զենքը կլինի PK գնացիր \n",
    "  * բարձրահասակ չէ (180cm֊ից ցածր և 165cm-ից բարձր) և քաշը 60 կգ֊ից բարձր է, բայց ամենաշատը 75 կգ է, ապա նրա զենքը կլինի RPK-74 տիպի\n",
    "  * չի պատկանում վերոնշյալ խմբերից ոչ մեկին, ապա նրա զենքը կլինի AK-74 տիպի։\n",
    "\n",
    "  Գրել `weapon_assigner` անունով ֆունկցիա, որը կվերցնի զինվորի տվյալներ dictionary֊ի միջոցով և կվերադարձնի նրա հետ կապված list՝ հետևյալ ֆորմատով ['անուն', 'զինատեսակ']:  "
   ]
  },
  {
   "cell_type": "code",
   "execution_count": 79,
   "metadata": {
    "colab": {},
    "colab_type": "code",
    "id": "ZJe6o1yiHGVu"
   },
   "outputs": [
    {
     "data": {
      "text/plain": [
       "['Tigran', 'AK-74']"
      ]
     },
     "execution_count": 79,
     "metadata": {},
     "output_type": "execute_result"
    }
   ],
   "source": [
    "def weapon(d):\n",
    "    l = []\n",
    "    if d[\"height\"] > 180 and d[\"weight\"]<75:\n",
    "        l.extend((d[\"name\"],\"SVD\"))\n",
    "        return(l)\n",
    "    elif d[\"height\"] > 180 and (d[\"weight\"] > 75 and d[\"weight\"] <120):\n",
    "        l.extend((d[\"name\"],'PK'))\n",
    "        return(l)\n",
    "    elif (d['height'] < 180 and d['height'] > 165) and (d['weight'] > 60 and d[\"weight\"]< 75):\n",
    "        l.extend((d[\"name\"],\"RPK-74\"))\n",
    "        return l\n",
    "    else:\n",
    "        l.extend((d['name'],\"AK-74\"))\n",
    "        return l\n",
    "d = {\"name\":'Tigran',\"height\":155, \"weight\":57}\n",
    "weapon(d)\n"
   ]
  },
  {
   "cell_type": "code",
   "execution_count": null,
   "metadata": {},
   "outputs": [],
   "source": []
  },
  {
   "cell_type": "code",
   "execution_count": null,
   "metadata": {
    "colab": {},
    "colab_type": "code",
    "id": "ZPfEB2zlMHXb"
   },
   "outputs": [],
   "source": [
    "assert weapon_assigner({'name': 'Poghos Poghosyan',\n",
    "                        'height': 175,\n",
    "                        'weight': 75}) == ['Poghos Poghosyan', 'RPK-74']\n",
    "assert weapon_assigner({'name': 'Petros Poghosyan',\n",
    "                        'height': 189,\n",
    "                        'weight': 80}) == ['Petros Poghosyan', 'PK']\n",
    "assert weapon_assigner({'name': 'Poghos Petrosyan',\n",
    "                        'height': 189,\n",
    "                        'weight': 74}) == ['Poghos Petrosyan', 'SVD']"
   ]
  }
 ],
 "metadata": {
  "colab": {
   "collapsed_sections": [],
   "name": "HW3_Functions.ipynb",
   "provenance": []
  },
  "kernelspec": {
   "display_name": "Python 3 (ipykernel)",
   "language": "python",
   "name": "python3"
  },
  "language_info": {
   "codemirror_mode": {
    "name": "ipython",
    "version": 3
   },
   "file_extension": ".py",
   "mimetype": "text/x-python",
   "name": "python",
   "nbconvert_exporter": "python",
   "pygments_lexer": "ipython3",
   "version": "3.8.10"
  }
 },
 "nbformat": 4,
 "nbformat_minor": 1
}
