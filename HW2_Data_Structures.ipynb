{
 "cells": [
  {
   "cell_type": "markdown",
   "metadata": {
    "colab_type": "text",
    "id": "Z2LhYNT8HigC"
   },
   "source": [
    "Ստորև գրված առաջադրանքները կատարելու վերջնաժամկետը **09.08.2020 23:59** է։ Առաջադրանքները կատարելուց հետո, պետք է \n",
    "\n",
    "1. ներբեռնեք այս ֆայլը ձեր համակարգիչ (`File` $\\to$ `Download .ipynb`)\n",
    "2. վերնագրին ավելացնեք ձեր անուն, ազգանունը լատինատառ, օրինակ՝ *HW2_Data_Structures_NshanPotikyan.ipynb* ֆորմատով\n",
    "3. ուղարկեք ֆայլը **nshanp@fast.foundation** հասցեին` նամակի թեմա (subject) դաշտում գրելով **HW2**\n",
    "\n",
    "**Ուշադրություն**․ Նշված պայմաններին չբավարարելու դեպքում ձեր աշխատանքը չի գնահատվի։"
   ]
  },
  {
   "cell_type": "markdown",
   "metadata": {
    "colab_type": "text",
    "id": "GCEodKTbRd_r"
   },
   "source": [
    "# Homework Exercises"
   ]
  },
  {
   "cell_type": "markdown",
   "metadata": {
    "colab_type": "text",
    "id": "sM2FU5TVqX3l"
   },
   "source": [
    "## Strings"
   ]
  },
  {
   "cell_type": "markdown",
   "metadata": {
    "colab_type": "text",
    "id": "1WbPDB3mI7MO"
   },
   "source": [
    "1. Write a program that asks the user to enter a string. The program should then print the\n",
    "following:\n",
    "\n",
    "  * The total number of characters in the string\n",
    "  * The string repeated 10 times\n",
    "  * The first character of the string \n",
    "  * The first three characters of the string\n",
    "  * The last three characters of the string\n",
    "  * The string backwards\n",
    "\n",
    "  Գրել ծրագիր, որը օգտատիրոջ մուտքագրած տեքստի (string) համար կտպի հետևյալը․\n",
    "\n",
    "  * Ընդհանուր սիմվոլների քանակը\n",
    "  * տեքստը 10 անգամ կրկնած\n",
    "  * առաջին անդամը\n",
    "  * առաջին 3 անդամները\n",
    "  * վերջին 3 անդամները\n",
    "  * տեսքտը հակառակ շրջած"
   ]
  },
  {
   "cell_type": "code",
   "execution_count": 5,
   "metadata": {
    "colab": {},
    "colab_type": "code",
    "id": "TXQRhmFoI6-z"
   },
   "outputs": [
    {
     "name": "stdout",
     "output_type": "stream",
     "text": [
      "enter stringa\n",
      "['__add__', '__class__', '__contains__', '__delattr__', '__dir__', '__doc__', '__eq__', '__format__', '__ge__', '__getattribute__', '__getitem__', '__getnewargs__', '__gt__', '__hash__', '__init__', '__init_subclass__', '__iter__', '__le__', '__len__', '__lt__', '__mod__', '__mul__', '__ne__', '__new__', '__reduce__', '__reduce_ex__', '__repr__', '__rmod__', '__rmul__', '__setattr__', '__sizeof__', '__str__', '__subclasshook__', 'capitalize', 'casefold', 'center', 'count', 'encode', 'endswith', 'expandtabs', 'find', 'format', 'format_map', 'index', 'isalnum', 'isalpha', 'isascii', 'isdecimal', 'isdigit', 'isidentifier', 'islower', 'isnumeric', 'isprintable', 'isspace', 'istitle', 'isupper', 'join', 'ljust', 'lower', 'lstrip', 'maketrans', 'partition', 'replace', 'rfind', 'rindex', 'rjust', 'rpartition', 'rsplit', 'rstrip', 'split', 'splitlines', 'startswith', 'strip', 'swapcase', 'title', 'translate', 'upper', 'zfill']\n"
     ]
    }
   ],
   "source": [
    "'''\n",
    "st = input(\"enter enter string:\")\n",
    "print(len(st))'''\n",
    "st = input(\"enter string\")\n",
    "print(dir(str))"
   ]
  },
  {
   "cell_type": "markdown",
   "metadata": {
    "colab_type": "text",
    "id": "hfFxrQ4YI6v7"
   },
   "source": [
    "2. Using for loop iterate through the string `Hello world` and count the number of 'l's in it.\n",
    "\n",
    "  Անցնել `Hello world` տեքստի վրայով և հաշվել դրա մեջ `l` տառի հաճախականությունը՝ օգտագործելով for ցիկլ։"
   ]
  },
  {
   "cell_type": "code",
   "execution_count": 7,
   "metadata": {
    "colab": {},
    "colab_type": "code",
    "id": "PoLfgh08VSHZ"
   },
   "outputs": [
    {
     "name": "stdout",
     "output_type": "stream",
     "text": [
      "2\n"
     ]
    }
   ],
   "source": [
    "strr = \"Hello Word\"\n",
    "s = 0\n",
    "for i in strr:\n",
    "    if i == 'l':\n",
    "        s +=1\n",
    "print(s)"
   ]
  },
  {
   "cell_type": "markdown",
   "metadata": {
    "colab_type": "text",
    "id": "Qk-vQlp1VSPk"
   },
   "source": [
    "3. Write a program that asks the user for a string and creates a new string that doubles each character of the original string. For instance, if the user enters `Hello`, the output should be `HHeelllloo`.\n",
    "\n",
    "  Գրել ծրագիր, որը վերցնում է օգտատիրոջ կողմից մուտքագրված տեքստը և պատրաստում է նոր տեքստ, որի մեջ գրված են մուտքագրված բառի տառերը կրկնապատկված։ Օրինակ՝ `Hello` բառի համար կվերադարձնի `HHeelllloo`։"
   ]
  },
  {
   "cell_type": "code",
   "execution_count": 2,
   "metadata": {
    "colab": {},
    "colab_type": "code",
    "id": "Egenwe06VSWV"
   },
   "outputs": [
    {
     "name": "stdout",
     "output_type": "stream",
     "text": [
      "enter str: Tik\n",
      "TTiikk\n"
     ]
    }
   ],
   "source": [
    "s = input(\"enter str: \")\n",
    "p= ''\n",
    "for i in range(len(s)):\n",
    "    print(s[i]*2,end='')\n",
    "print(str(p))"
   ]
  },
  {
   "cell_type": "markdown",
   "metadata": {
    "colab_type": "text",
    "id": "ZCBZc1U1VSb7"
   },
   "source": [
    "4. Write a program that asks a user for their name and prints it in the following way:\n",
    "\n",
    "  `A Ar Arm Arme Armen`.\n",
    "\n",
    "  Hint: use a for loop.\n",
    "\n",
    "  Գրել ծրագիր, որը վերցնում է օգտատիրոջ անունը և տպում է այն հետևյալ կերպ․\n",
    "\n",
    "  `A Ar Arm Arme Armen`\n",
    "\n",
    "  Հուշում․ օգտագործել for ցիկլ։"
   ]
  },
  {
   "cell_type": "code",
   "execution_count": 2,
   "metadata": {
    "colab": {},
    "colab_type": "code",
    "id": "vK_7hQuuVSha"
   },
   "outputs": [
    {
     "name": "stdout",
     "output_type": "stream",
     "text": [
      "enter your name: Tiko\n",
      "T\n",
      "Ti\n",
      "Tik\n",
      "Tiko\n"
     ]
    }
   ],
   "source": [
    "ss = ''\n",
    "n = input(\"enter your name: \")\n",
    "for i in range(len(n)):\n",
    "    ss += n[i]\n",
    "    print(ss)"
   ]
  },
  {
   "cell_type": "markdown",
   "metadata": {
    "colab_type": "text",
    "id": "RsjwjrDfVtAR"
   },
   "source": [
    "5. Write a program that removes all capitalization and common punctuation (`,.;:-?!()\\'\"`) from a\n",
    "string `s`.\n",
    "\n",
    "  Գրել ծրագիր, որը դարձնում է `s` տեքստի մեծատառերը՝ փոքրատառ և ջնջում է տեքստում առկա հետևյալ կետադրական նշանները՝ `,.;:-?!()\\'\"`։"
   ]
  },
  {
   "cell_type": "code",
   "execution_count": 21,
   "metadata": {
    "colab": {},
    "colab_type": "code",
    "id": "WmpM4SyDVtF4"
   },
   "outputs": [
    {
     "name": "stdout",
     "output_type": "stream",
     "text": [
      "ACADAQ\n"
     ]
    }
   ],
   "source": [
    "s = \"Aca,.da\\?!:qr''\"\n",
    "new_s=''\n",
    "for i in range(len(s)):\n",
    "    if s[i] in \",.;:-?!() r\\ r\"\" r'' \":\n",
    "        next\n",
    "    elif s[i] == s[i].lower():\n",
    "        new_s += s[i].upper()\n",
    "    elif s[i] == s[i].upper():\n",
    "        new_s += s[i]\n",
    "print(new_s)"
   ]
  },
  {
   "cell_type": "markdown",
   "metadata": {
    "colab_type": "text",
    "id": "KgF5uPuhVtLl"
   },
   "source": [
    "6. Write a program that, given a string that contains a decimal number, prints out the\n",
    "decimal part of the number. For instance, if given `3.14159`, the program should print out `.14159`.\n",
    "\n",
    "  Գրել ծրագիր, որը վերցնում է տասնորդական թիվ՝ որպես տեքստ և տպում է դրա տասնորդական կարգը, այսինքն՝ օրինակ  `3.14159`-ի համար ծրագիրը պետք է տպի `.14159`։"
   ]
  },
  {
   "cell_type": "code",
   "execution_count": 25,
   "metadata": {
    "colab": {},
    "colab_type": "code",
    "id": "0gH3y-Q2VSnR"
   },
   "outputs": [
    {
     "name": "stdout",
     "output_type": "stream",
     "text": [
      "enter number: 2.345\n",
      ".345\n"
     ]
    }
   ],
   "source": [
    "number = input(\"enter number: \")\n",
    "for i in range(len(number)):\n",
    "    if number[i] == '.':\n",
    "        print(number[i:])"
   ]
  },
  {
   "cell_type": "markdown",
   "metadata": {
    "colab_type": "text",
    "id": "3HEZ6dl0ekny"
   },
   "source": [
    "7. A simple way to estimate the number of words in a string is to count the number of spaces\n",
    "in the string. Write a program that asks the user for a string and returns an estimate of how\n",
    "many words are in the string.\n",
    "\n",
    "  Տեքստի մեջ բառերի քանակը մոտավոր հաշվելու պարզագույն եղանակը տեքստում բացատների քանակը հաշվելն է։ Գրել ծրագիր, որը կտպի բացատների քանակը՝ օգտատիրոջ կողմից մուտքագրված տեքստում։ "
   ]
  },
  {
   "cell_type": "code",
   "execution_count": null,
   "metadata": {
    "colab": {},
    "colab_type": "code",
    "id": "AgRYItgXek22"
   },
   "outputs": [],
   "source": [
    "text = input(\"enter text: \")\n",
    "count = 0\n",
    "for i in range(len(text)):\n",
    "    if text[i] == ' ':\n",
    "        count += 1\n",
    "print(count)\n",
    "    "
   ]
  },
  {
   "cell_type": "markdown",
   "metadata": {
    "colab_type": "text",
    "id": "_OkxDUHEI6kS"
   },
   "source": [
    "8. Write a program that asks the user to enter a string `s` and then converts `s` to lowercase, removes\n",
    "all the `periods` (.) and `commas` (,) from `s`, and prints the resulting string.\n",
    "\n",
    "  Գրել ծրագիր, որը օգտատիրոջից վերցնում է տեքստ, դարձնում այն փոքրատառ, վերացնում վերջակետերն (.) ու ստորակետերը (,) և տպում ստացված տեքստը։"
   ]
  },
  {
   "cell_type": "code",
   "execution_count": 2,
   "metadata": {
    "colab": {},
    "colab_type": "code",
    "id": "cTN0Ve60jEqT"
   },
   "outputs": [
    {
     "name": "stdout",
     "output_type": "stream",
     "text": [
      "enter text: as::,,\n",
      "as\n"
     ]
    }
   ],
   "source": [
    "text = input(\"enter text: \")\n",
    "text = text.lower()\n",
    "i = 0\n",
    "while i < len(text):\n",
    "    if text[i] == ':' or text[i] == ',':\n",
    "        text =text[0:i]+ text[i+1:]\n",
    "        i -=1 \n",
    "    i += 1\n",
    "print(text)"
   ]
  },
  {
   "cell_type": "markdown",
   "metadata": {
    "colab_type": "text",
    "id": "xlBkRh2dVHWo"
   },
   "source": [
    "9. Write a program that asks the user to enter a word and determines whether the word is a\n",
    "`palindrome` or not. A palindrome is a word that reads the same backwards as forwards.\n",
    "\n",
    "  Գրել ծրագիր, որը օտատիրոջից վերցնում է մեկ բառ և ստուգում է արդյոք այդ բառը պալինդրոմ է, թե՝ ոչ։ Պալինդրոմ են անվանում այն բառերին, որոնք սկբից և վերջից կարդալիս նույնն են։ Օրինակ՝ ապա, Աննա, ահա, աբբգգբբա։ Բառերը կարող են իմաստ չունենալ։  \n",
    "\n"
   ]
  },
  {
   "cell_type": "code",
   "execution_count": 1,
   "metadata": {
    "colab": {},
    "colab_type": "code",
    "id": "TwvYtVrAVHbQ"
   },
   "outputs": [
    {
     "name": "stdout",
     "output_type": "stream",
     "text": [
      "enter text: KaraK\n",
      "text is polindrom\n"
     ]
    }
   ],
   "source": [
    "text = input(\"enter text: \")\n",
    "if text[:] == text[::-1]:\n",
    "    print(\"text is polindrom\")\n",
    "else:\n",
    "    print(\"text is not polindrom \")\n",
    "    \n",
    "    "
   ]
  },
  {
   "cell_type": "markdown",
   "metadata": {
    "colab_type": "text",
    "id": "32hdDmh3VHfY"
   },
   "source": [
    "10. Write a program that asks the user for their name and then generates the email written below for that person.\n",
    "\n",
    "  Գրել ծրագիր, որը հարցնում է օգտատիրոջ անուն, ազգանունը և տպում այդ օգտատիրոջ համար հետևյալ նամակը։ \n",
    "\n",
    "  \"Dear **Name Surname**,\n",
    "  \n",
    "  I am pleased to offer you our new special product. **Name**, you may not get such an offer every day, so I would like to ask you to call\n",
    "now. We cannot offer such a low\n",
    "rate for long, **Name**, so please call as soon as possible.\" "
   ]
  },
  {
   "cell_type": "code",
   "execution_count": 5,
   "metadata": {
    "colab": {},
    "colab_type": "code",
    "id": "8OmuGQjqVHjn"
   },
   "outputs": [
    {
     "name": "stdout",
     "output_type": "stream",
     "text": [
      "enter your name: Tigran\n",
      "enter your surname: Babayan\n",
      "Dear Tigran Babayan,\n",
      " I am pleased ... Tigran, long,Tigran\n"
     ]
    }
   ],
   "source": [
    "name  = input(\"enter your name: \")\n",
    "surname = input(\"enter your surname: \")\n",
    "print(f\"Dear {name} {surname},\\n I am pleased ... {name}, long,{name}\")\n"
   ]
  },
  {
   "cell_type": "markdown",
   "metadata": {
    "colab_type": "text",
    "id": "_wOptjGTqTFC"
   },
   "source": [
    "## Lists"
   ]
  },
  {
   "cell_type": "markdown",
   "metadata": {
    "colab_type": "text",
    "id": "2cUNMzReV_fd"
   },
   "source": [
    "11. Write a program that removes the repeated items from a list and leaves only the unique values in the initial order.\n",
    "\n",
    "  Գրել ծրագիր, որը կվերադարձնի list-ի յուրաքանչյուր տարր առանց կրկնության։"
   ]
  },
  {
   "cell_type": "code",
   "execution_count": 1,
   "metadata": {
    "colab": {},
    "colab_type": "code",
    "id": "ylT4vZLWV_pO"
   },
   "outputs": [
    {
     "name": "stdout",
     "output_type": "stream",
     "text": [
      "enter yout list: [1,2,3,1,2,1,2,34,-1]\n",
      "[1, 2, 3, 34, -1]\n"
     ]
    }
   ],
   "source": [
    "def uniq_list(ls):\n",
    "    new_ls = []\n",
    "    for item in ls:\n",
    "        if item not in new_ls:\n",
    "            new_ls.append(item)\n",
    "    return new_ls\n",
    "\n",
    "list_1 = eval(input(\"enter yout list: \"))\n",
    "answer = uniq_list(list_1)\n",
    "print(answer)"
   ]
  },
  {
   "cell_type": "markdown",
   "metadata": {
    "colab_type": "text",
    "id": "CIc1nNl8V_vm"
   },
   "source": [
    "12. Write a program that counts the number of occurances of each item in the list. \n",
    "\n",
    "  Գրել ծրագիր, որը կհաշվի list-ի տարրերի հաճախականությունները։"
   ]
  },
  {
   "cell_type": "markdown",
   "metadata": {
    "colab_type": "text",
    "id": "aO1ojeTnWEpt"
   },
   "source": [
    "13. Write a program that generates a list of 50 random numbers between 1 and 100. Count how many items in the list are greater than 50.\n",
    "\n",
    "  Գրել ծրագիր, որը կստեղծի 50 պատահական ամբողջ թիվ 1-100 միջակայքից և կհաշվի 50-ից մեծ թվերի քանակը։"
   ]
  },
  {
   "cell_type": "code",
   "execution_count": 3,
   "metadata": {
    "colab": {},
    "colab_type": "code",
    "id": "nn4LVRfSV_0t"
   },
   "outputs": [
    {
     "name": "stdout",
     "output_type": "stream",
     "text": [
      "enter your list: [1,2,1,2,3,422,422]\n",
      "2:1\n",
      "2:2\n",
      "1:3\n",
      "2:422\n"
     ]
    }
   ],
   "source": [
    "l = eval(input(\"enter your list: \"))\n",
    "a = 0\n",
    "i = 0\n",
    "while i < len(l):\n",
    "    l.sort()\n",
    "    a = l.count(l[i])\n",
    "    print(f\"{a}:{l[i]}\")\n",
    "    i += a\n"
   ]
  },
  {
   "cell_type": "code",
   "execution_count": 8,
   "metadata": {
    "colab": {},
    "colab_type": "code",
    "id": "RziUX7kRWEwq"
   },
   "outputs": [
    {
     "name": "stdout",
     "output_type": "stream",
     "text": [
      "76\n",
      "79\n",
      "99\n",
      "64\n",
      "82\n",
      "83\n",
      "60\n",
      "75\n",
      "56\n",
      "84\n",
      "95\n",
      "79\n",
      "65\n",
      "97\n",
      "80\n",
      "52\n",
      "55\n",
      "78\n",
      "74\n",
      "60\n"
     ]
    }
   ],
   "source": [
    "import random\n",
    "ls = []\n",
    "for i in range(51):\n",
    "    ls.append(random.randint(1,100))\n",
    "    if ls[i] > 50:\n",
    "        print(ls[i])\n",
    "#for j in ls:\n",
    "    #if j > 50:\n",
    "        #print(j)\n",
    "    "
   ]
  },
  {
   "cell_type": "markdown",
   "metadata": {
    "colab_type": "text",
    "id": "YxseNPKzWE1L"
   },
   "source": [
    "14. Write a program that prints out the \n",
    "* total number of elements\n",
    "* sum of all elements\n",
    "* two largest and two smallest elements \n",
    "\n",
    "of a list entered by the user.\n",
    "\n",
    "  Գրել ծրագիր, որը կտպի օգտատիրոջ կողմից մուտքագրված list-ի\n",
    "  * ընդհանուր էլեմենտների քանակը\n",
    "  * բոլոր էլեմենտների գումարը\n",
    "  * երկու ամենամեծ և ամենափոքր տարրերը"
   ]
  },
  {
   "cell_type": "code",
   "execution_count": 13,
   "metadata": {
    "colab": {},
    "colab_type": "code",
    "id": "wzI_x4u_WE_w"
   },
   "outputs": [
    {
     "name": "stdout",
     "output_type": "stream",
     "text": [
      "enter your list: [1,2,3]\n",
      "6\n",
      "3\n"
     ]
    }
   ],
   "source": [
    "ls = eval(input(\"enter your list: \"))\n",
    "summ = sum(ls)\n",
    "print(summ)\n",
    "count = 0\n",
    "for item in ls:\n",
    "    count += 1\n",
    "print(count)\n",
    "    "
   ]
  },
  {
   "cell_type": "code",
   "execution_count": 21,
   "metadata": {
    "colab": {},
    "colab_type": "code",
    "id": "KMqAiNsGIHsU"
   },
   "outputs": [
    {
     "name": "stdout",
     "output_type": "stream",
     "text": [
      "enter your list: [1,2,3,0,122,33,0,122]\n",
      "0 0 122 122\n"
     ]
    }
   ],
   "source": [
    "ls = eval(input(\"enter your list: \"))\n",
    "largest1 = float('-inf')\n",
    "largest2 = float('-inf')\n",
    "smallest1 = smallest2 = float(\"inf\")\n",
    "for item in ls:\n",
    "    if item > largest1:\n",
    "        largest2 = largest1\n",
    "        largest1 = item\n",
    "    elif item  > largest2:\n",
    "        largest2 = item\n",
    "    if item < smallest1:\n",
    "        smallest2 =smallest1\n",
    "        smallest1 = item\n",
    "    elif item < smallest2:\n",
    "        smallest2 = item\n",
    "print(smallest1,smallest2,largest1,largest1)\n",
    "        \n",
    "    "
   ]
  },
  {
   "cell_type": "markdown",
   "metadata": {
    "colab_type": "text",
    "id": "YUaFYy8OIHWp"
   },
   "source": [
    "15. Write a program that generates a list of 20 random numbers between 1 and 100.\n",
    "  * Print the list.\n",
    "  * Print the average of the elements in the list.\n",
    "  * Print the largest and smallest values in the list.\n",
    "  * Print the second largest and second smallest entries in the list\n",
    "  * Print how many even numbers are in the list.\n",
    "\n",
    "  Գրել ծրագիր, որը կստեղծի 1-100 միջակայքից 20 պատահական ամբողջ թվեր պարունակող list և կտպի\n",
    "  * այդ list-ը \n",
    "  * list-ի թվաբանական միջինը\n",
    "  * մեծագույն և փոքրագուն թվերը\n",
    "  * երկրորդ ամենամեծ և ամենափոքր թվերը\n",
    "  * զույգ թվերի քանակը"
   ]
  },
  {
   "cell_type": "code",
   "execution_count": 38,
   "metadata": {
    "colab": {},
    "colab_type": "code",
    "id": "xrSVUy31IHeV"
   },
   "outputs": [
    {
     "name": "stdout",
     "output_type": "stream",
     "text": [
      "[26, 60, 48, 11, 13, 36, 84, 72, 87, 13, 51, 59, 2, 12, 77, 9, 3, 32, 16, 73]\n",
      "39.2\n",
      "87 2\n",
      "l2= 84 s1= 2\n",
      "10\n"
     ]
    }
   ],
   "source": [
    "import random\n",
    "ls = list()\n",
    "count = 0 \n",
    "for i in range(20):\n",
    "    count += 1\n",
    "    ls.append(random.randint(1,101))\n",
    "print(ls)\n",
    "a,b =ls.index(max(ls)),ls.index(min(ls))\n",
    "print(sum(ls)/count)\n",
    "print(max(ls),min(ls))\n",
    "a1= ls.pop(a)\n",
    "b1 = ls.pop(b)\n",
    "#print('a1=',a1,\"b1=\",b1)\n",
    "largest_2 = max(ls)\n",
    "smallest_2 = min(ls)\n",
    "ls.insert(a1,b1)\n",
    "print(\"l2=\",largest_2,\"s1=\",smallest_2)\n",
    "summ = 0\n",
    "for item in ls:\n",
    "    if item % 2 == 0:\n",
    "        summ += 1\n",
    "print(summ)"
   ]
  },
  {
   "cell_type": "code",
   "execution_count": null,
   "metadata": {
    "colab": {},
    "colab_type": "code",
    "id": "KMqAiNsGIHsU"
   },
   "outputs": [],
   "source": []
  },
  {
   "cell_type": "markdown",
   "metadata": {
    "colab_type": "text",
    "id": "FgcH-562IHlB"
   },
   "source": [
    "16. Ask the user to enter a list containing numbers between 1 and 12. Then replace all of the\n",
    "entries in the list that are greater than 8 with 8 And prints the resulting list.\n",
    "\n",
    "  Գրել ծրագիր, որը վերցնում է օգտատիրոջ կողմից մուտքագրված 1-ից 12 ամբողջ թվեր, փոխարինում 8-ից մեծ թվերը 8-ով և տպում է ստացված list-ը։"
   ]
  },
  {
   "cell_type": "code",
   "execution_count": 2,
   "metadata": {
    "colab": {},
    "colab_type": "code",
    "id": "KMqAiNsGIHsU"
   },
   "outputs": [
    {
     "name": "stdout",
     "output_type": "stream",
     "text": [
      "enter count of list items: 4\n",
      "enter number: 11\n",
      "enter number: 10\n",
      "enter number: 4\n",
      "enter number: 5\n",
      "[8, 8, 4, 5]\n"
     ]
    }
   ],
   "source": [
    "l = list()\n",
    "count = int(input(\"enter count of list items: \"))\n",
    "while True:\n",
    "    a = int(input(\"enter number: \"))\n",
    "    if a >=1 and a <= 12:\n",
    "        l.append(a)\n",
    "        if(len(l) >= count):\n",
    "            break\n",
    "for i in range(len(l)):\n",
    "    if l[i] > 8:\n",
    "        l[i] = 8\n",
    "print(l)\n",
    "\n",
    "        "
   ]
  },
  {
   "cell_type": "markdown",
   "metadata": {
    "colab_type": "text",
    "id": "IicCIcQvIHxY"
   },
   "source": [
    "17. Ask the user to enter a list of strings. Create a new list that consists of those strings with their\n",
    "first characters removed.\n",
    "\n",
    "  Օգտատիրոջ կողմից պետք է մուտքագրվի string-ների list, այնուհետև պահանջվում է ստեղծել նոր list, որտեղ կլինեն նույն string-ները, բայց առանց առաջին սիմվոլի։ Օրինակ՝ \n",
    "  `['!dog', '+cat']` $\\to$ `['dog', 'cat']`"
   ]
  },
  {
   "cell_type": "code",
   "execution_count": 13,
   "metadata": {
    "colab": {},
    "colab_type": "code",
    "id": "gW2JdxzWIH4g"
   },
   "outputs": [
    {
     "name": "stdout",
     "output_type": "stream",
     "text": [
      "enter itms list numbers: 3\n",
      "input string: asa\n",
      "input string: de\n",
      "input string: wq\n",
      "['sa', 'e', 'q']\n"
     ]
    }
   ],
   "source": [
    "n  = int(input(\"enter itms list numbers: \"))\n",
    "ls = []\n",
    "ls2 = []\n",
    "for i in range(n):\n",
    "    a = input(\"input string: \")\n",
    "    ls.append(a)\n",
    "for i in range(len(ls)):\n",
    "    ls2.append(ls[i][1:])\n",
    "print(ls2)"
   ]
  },
  {
   "cell_type": "markdown",
   "metadata": {
    "colab_type": "text",
    "id": "MEC70di4IH_O"
   },
   "source": [
    "18. Write a program that generates 100 random integers that are either 0 or 1. Then find the largest number of zeros in a row. For instance, the longest run of\n",
    "zeros in `[1,0,1,1,0,0,0,0,1,0,0]` is 4. \n",
    "\n",
    "  Գրել ծրագիր, որը կստեղծի 100 պատահական 0-ներ և 1-եր, ապա կհաշվի թե ամենաշատը քանի իրար հաջորդող 0-ներ կան տվյալ list-ի մեջ։ Օրինակ՝ այս դեպքում `[1,0,1,1,0,0,0,0,1,0,0]` այդ թիվը կլինի 4-ը.  "
   ]
  },
  {
   "cell_type": "code",
   "execution_count": 5,
   "metadata": {
    "colab": {},
    "colab_type": "code",
    "id": "wU6-9X9zIIFe"
   },
   "outputs": [
    {
     "name": "stdout",
     "output_type": "stream",
     "text": [
      "[0, 1, 1, 1, 0, 1, 0, 1, 0, 0, 1, 1, 1, 1, 1, 1, 1, 1, 1, 1, 0, 0, 0, 1, 0, 1, 1, 0, 0, 1, 1, 1, 0, 1, 1, 1, 1, 1, 1, 1, 1, 1, 0, 1, 1, 1, 1, 0, 1, 0, 0, 1, 0, 1, 1, 1, 0, 0, 0, 1, 1, 0, 0, 0, 1, 1, 1, 0, 0, 0, 1, 0, 0, 0, 1, 1, 0, 1, 1, 0, 1, 0, 0, 1, 1, 0, 1, 0, 0, 1, 1, 0, 0, 0, 0, 1, 1, 1, 0, 0]\n",
      "4\n"
     ]
    }
   ],
   "source": [
    "import random as r\n",
    "ls = []\n",
    "ls2 = []\n",
    "max_items = 0\n",
    "count = 0\n",
    "for i in range(100):\n",
    "    ls.append(r.randint(0,1))\n",
    "print(ls)\n",
    "for item in ls:\n",
    "    if item == 0:\n",
    "        count +=1\n",
    "        max_items = max(max_items,count)\n",
    "    else:\n",
    "        count = 0\n",
    "print(max_items)\n",
    "        \n",
    "    "
   ]
  },
  {
   "cell_type": "markdown",
   "metadata": {
    "colab_type": "text",
    "id": "DX4939I0Kdqt"
   },
   "source": [
    "19. Create the following lists using list comprehension.\n",
    "\n",
    "  * A list consisting of the even integers 0 through 49\n",
    "  * A list containing the squares of the integers 1 through 50 that are divisible by 3.\n",
    "\n",
    "  Ստեղծել հետևյալ list-երը օգտագործելով list comprehension մեթոդը։\n",
    "\n",
    "  * 0-ից 49 զույգ ամբողջ թվերը\n",
    "  * 1-ից 50 ամողջ թվերից 3-ի բաժանվողների քառակուսիները"
   ]
  },
  {
   "cell_type": "code",
   "execution_count": 10,
   "metadata": {
    "colab": {},
    "colab_type": "code",
    "id": "bAKqzpv6KfDJ"
   },
   "outputs": [
    {
     "name": "stdout",
     "output_type": "stream",
     "text": [
      "[9, 36, 81, 144, 225, 324, 441, 576, 729, 900, 1089, 1296, 1521, 1764, 2025, 2304]\n"
     ]
    }
   ],
   "source": [
    "l = [i for i in range(1,50) if i%2 == 0]\n",
    "ls = [i**2 for i in range(1,51) if i%3 == 0]\n",
    "print(ls)"
   ]
  },
  {
   "cell_type": "markdown",
   "metadata": {
    "colab_type": "text",
    "id": "NKP8JTNb6z5P"
   },
   "source": [
    "# Dictionaries, Tuples, Sets"
   ]
  },
  {
   "cell_type": "markdown",
   "metadata": {
    "colab_type": "text",
    "id": "ms2qt7pe6wKD"
   },
   "source": [
    "20. Write a program that uses a dictionary that contains ten user names and passwords. The\n",
    "program should ask the user to enter their username and password. If the username is not in\n",
    "the dictionary, the program should indicate that the person is not a valid user of the system. If\n",
    "the username is in the dictionary, but the user does not enter the right password, the program\n",
    "should say that the password is invalid. If the password is correct, then the program should\n",
    "tell the user that they are now logged in to the system.\n",
    "\n",
    "  Գրել ծրագիր, որը օգտագործում է dictionary, որպեսզի պահի 10 օգտատերերի հաշվիների անունները և գաղտնաբառերը։ Ծրագիրը օգտատիրոջից պահանջում է մուտքագրել անունը և գաղտնաբառը, որոնց չհամընկնելու դեպքում ծրագիրը պետք է տեղեկացնի դրա մասին նշելով թե որ ինչը չի համընկել․ անունը թե գաղտնաբառը։ Եթե գաղտնաբառը ճիշտ է, ապա ծրագիրը պետք է հայտնի, որ օգտատերը արդեն մուտք է գործել համակարգ։"
   ]
  },
  {
   "cell_type": "code",
   "execution_count": 17,
   "metadata": {
    "colab": {},
    "colab_type": "code",
    "id": "HpvGvAxs6yzr"
   },
   "outputs": [
    {
     "name": "stdout",
     "output_type": "stream",
     "text": [
      "enter username: Samo\n",
      "enter password with integer numbers: 2221\n",
      "password is wrong\n"
     ]
    }
   ],
   "source": [
    "user = {\"Tigran\":1111,\"Samo\":2222,\"Narek\":3333,\"Karen\":4444,\"Atom\":5555}\n",
    "us = input(\"enter username: \")\n",
    "pas = int(input(\"enter password with integer numbers: \"))\n",
    "if us in user.keys():\n",
    "    if(user[us] == pas):\n",
    "        print(\"its all ok\")\n",
    "    else:\n",
    "        print(\"password is wrong\")\n",
    "else:\n",
    "    print(\"username is not found\")"
   ]
  },
  {
   "cell_type": "markdown",
   "metadata": {
    "colab_type": "text",
    "id": "otpqwn7s67XR"
   },
   "source": [
    "21. Repeatedly ask the user to enter a team name and the how many games the team won and\n",
    "how many they lost. Store this information in a dictionary where the keys are the team names\n",
    "and the values are tuples of the form (wins, losses). Using the dictionary created above,\n",
    "\n",
    "  1. allow the user to enter a team name and print outthe team's winning percentage.\n",
    "  2. create a list whose entries are the number of wins of each team.\n",
    "  3. print the name of the team with the most number of losses.\n",
    "\n",
    "  Գրել ծրագիր, որը կվերցնի օգտատիրոջից ինչ-որ թիմի անուն և տեղեկատվություն այդ թիմի հաղթանակների և պարտությունների քանակների մասին։ Տվյալները պետք է պահել dictionary-ի մեջ, որտեղ բանալիները կլինեն մուտքագրված թիմերի անունները, իսկ արժեքները կլինեն (հաղթանակներ, պարտություններ) ֆորմատով tuple: Օգտագործելով վերոնշյալ dictionary-ն\n",
    "  \n",
    "  1. տպել օգտատիրոջ կողմից նշված թիմի հաղթանակների տոկոսը։ \n",
    "  2. ստեղծել list, որի տարրերը կլինեն յուրաքանչյուր թիմի հաղթանակների քանակները։\n",
    "  3. տպել ամենաշատը պարտված թիմի անունը։"
   ]
  },
  {
   "cell_type": "code",
   "execution_count": 37,
   "metadata": {
    "colab": {},
    "colab_type": "code",
    "id": "hBhvQFQM67h_"
   },
   "outputs": [
    {
     "name": "stdout",
     "output_type": "stream",
     "text": [
      "a\n",
      "list win : [20, 12, 100]\n",
      "bayern:(100, 100)\n"
     ]
    }
   ],
   "source": [
    "'''d = {}\n",
    "for i in range(2):\n",
    "    a = input()\n",
    "    b = eval(input())\n",
    "    d[a] = b'''\n",
    "d = {\"pyunik\":(20,80),\"ararat\":(12,20),\"bayern\":(100,100)}\n",
    "c = input()\n",
    "if c in d:\n",
    "    a = d[c][0]/(d[c][0]+d[c][1])\n",
    "    print(a*100)\n",
    "win_list= []\n",
    "for win in d.values():\n",
    "    win_list.append(win[0])\n",
    "print(\"list win :\",win_list)\n",
    "maxx = 0\n",
    "for lose in d.values():\n",
    "    maxx = max(maxx,lose[1])\n",
    "for i in d.keys():\n",
    "    if d[i][1] == maxx:\n",
    "        print(f\"{i}:{d[i]}\")\n",
    "    \n",
    "    \n",
    "\n"
   ]
  },
  {
   "cell_type": "markdown",
   "metadata": {
    "colab_type": "text",
    "id": "fPmRTK6w67nC"
   },
   "source": [
    "22. Repeatedly ask the user to enter game scores in a format like `team1 score1 - team2 score2`. Store\n",
    "this information in a dictionary where the keys are the team names and the values are tuples of\n",
    "the form (wins, losses).\n",
    "\n",
    "  Գրել ծրագիր, որը օգտատիրոջից վերցնում է խաղերի հաշվի տեղեկատվություն հետևյալ ֆորմատով՝ `team1 score1 - team2 score2` և ստեղծում է dictionary-ի, որտեղ բանալիները կլինեն թիմերի անունները, իսկ արժեքները կլինեն tuple-ներ՝ հաղթանակների և պարտությունների քանակներից կազմված։"
   ]
  },
  {
   "cell_type": "code",
   "execution_count": 40,
   "metadata": {
    "colab": {
     "base_uri": "https://localhost:8080/",
     "height": 84
    },
    "colab_type": "code",
    "executionInfo": {
     "elapsed": 12847,
     "status": "ok",
     "timestamp": 1597063210267,
     "user": {
      "displayName": "Nshan Potikyan",
      "photoUrl": "https://lh3.googleusercontent.com/a-/AOh14GgwEEDvEOwXSKYbrUPj7UT4cqoOH73Ij4jb4412=s64",
      "userId": "01488034774237415337"
     },
     "user_tz": -240
    },
    "id": "vfNjpUUk67sA",
    "outputId": "edad7cf2-131c-484b-ea94-76060ba34abf"
   },
   "outputs": [
    {
     "name": "stdout",
     "output_type": "stream",
     "text": [
      "pyunik 1 - ararat 4\n",
      "\n",
      "{'pyunik': (0, 1), 'ararat': (1, 0)}\n"
     ]
    }
   ],
   "source": [
    "# Pyunik 3 - Mika 2\n",
    "# Pyunik 1 - Ararat 2\n",
    "teams = {} \n",
    "match = input() \n",
    "while match != \"\": \n",
    "  team1, score1, _, team2, score2 = match.split() \n",
    "  score1, score2 = int(score1), int(score2) \n",
    "  teams[team1] = teams.get(team1, [0, 0]) \n",
    "  teams[team2] = teams.get(team2, [0, 0]) \n",
    "  teams[team1][0] += score1 > score2\n",
    "  teams[team1][1] += score1 < score2\n",
    "  teams[team2][0] += score1 < score2  \n",
    "  teams[team2][1] += score1 > score2\n",
    "  # if score1 > score2: \n",
    "  #   teams[team1][0] += 1 \n",
    "  #   teams[team2][1] += 1 \n",
    "  # if score1 < score2: \n",
    "  #   teams[team1][1] += 1 \n",
    "  #   teams[team2][0] += 1 \n",
    "  match = input() \n",
    "print({key: tuple(value) for key, value in teams.items()})"
   ]
  },
  {
   "cell_type": "markdown",
   "metadata": {
    "colab_type": "text",
    "id": "4Wh2rYRD67ww"
   },
   "source": [
    "23.  Create a $5 \\times 5$ list of numbers. Then write a program that creates a dictionary whose keys are\n",
    "the numbers and whose values are the how many times the number occurs. Then print the three most common numbers.\n",
    "\n",
    "  Ստեղծել $5 \\times 5$ չափսի մատրից (list-երի list), այնուհետև ստեղծել dictionary, որտեղ բանալիները կլինեն մատրիցի թվերը, իսկ արժեքները կլինեն այդ թվերի հաճախականությունները (քանի անգամ են հանդիպում) այդ մատրիցի մեջ։ Տպել 3 ամենաշատ հանդիպող թվերը։\n"
   ]
  },
  {
   "cell_type": "code",
   "execution_count": 5,
   "metadata": {
    "colab": {},
    "colab_type": "code",
    "id": "OhCE05K4671x"
   },
   "outputs": [
    {
     "name": "stdout",
     "output_type": "stream",
     "text": [
      "[[9, 6, 17, 1, 9], [7, 5, 17, 19, 18], [10, 9, 13, 19, 7], [15, 9, 17, 8, 10], [18, 5, 18, 2, 17]]\n",
      "0\n",
      "dict: {9: 1, 6: 1, 17: 1, 1: 1, 7: 1, 5: 1, 19: 1, 18: 1, 10: 1, 13: 1, 15: 1, 8: 1, 2: 1}\n"
     ]
    }
   ],
   "source": [
    "import random\n",
    "ls,ls1 = [],[]\n",
    "for i in range(5):\n",
    "    for j in range(5):\n",
    "        ls.append(random.randint(1,20))\n",
    "    ls1.append(ls)\n",
    "    ls = []\n",
    "print(ls1)\n",
    "d = {}\n",
    "print(ls1.count(7))\n",
    "for item in ls1:\n",
    "    for i in item:\n",
    "        d[i] = ls1.count(item)\n",
    "print(\"dict:\",d)\n",
    "    "
   ]
  },
  {
   "cell_type": "markdown",
   "metadata": {
    "colab_type": "text",
    "id": "7zQ_28J07RVg"
   },
   "source": [
    "24. Write a program that reads through the given list of dictionaries and prints the following:\n",
    "  1. All the users whose phone number ends in an 8\n",
    "  2. All the users that don't have an email address listed\n",
    "\n",
    "  Գրել ծրագիր, որը կմշակի տրված list-ը և կտպի հետևյալը․\n",
    "  1. Բոլոր օգտատերերի անունները՝ ում հեռախոսի համարը վերջանում է 8-ով\n",
    "  2. Բոլոր օգտատերերի անունները՝ ովքեր չունեն կցված email հասցե։\n",
    "\n"
   ]
  },
  {
   "cell_type": "code",
   "execution_count": 35,
   "metadata": {
    "colab": {},
    "colab_type": "code",
    "id": "4CPu6-m87UQj"
   },
   "outputs": [
    {
     "name": "stdout",
     "output_type": "stream",
     "text": [
      "Todd\n",
      "Princess\n"
     ]
    }
   ],
   "source": [
    "d = [{'name':'Todd', 'phone':'555-1414', 'email':'todd@mail.net'},\n",
    "    {'name':'Helga', 'phone':'555-1618', 'email':'helga@mail.net'},\n",
    "    {'name':'Princess', 'phone':'555-3141', 'email':''},\n",
    "    {'name':'LJ', 'phone':'555-2718', 'email':'lj@mail.net'}]\n",
    "'''\n",
    "for i in range(len(d)):\n",
    "    a =  d[i][\"phone\"]\n",
    "    length_a = len(a)\n",
    "    if a[length_a -1] == \"4\":\n",
    "        print(d[i][\"name\"])'''\n",
    "for i in d:\n",
    "    if i['phone'][-1] == \"4\":\n",
    "        print(i[\"name\"])\n",
    "for i in d:\n",
    "    if i['email']== '':\n",
    "        print(i[\"name\"])\n"
   ]
  },
  {
   "cell_type": "markdown",
   "metadata": {
    "colab_type": "text",
    "id": "6WjRITsC7V95"
   },
   "source": [
    "25. Write a program that prints the unique even numbers from a given tuple by the user with the help of set properties.\n",
    "\n",
    "  Գրել ծրագիր, որը կտպի օգտատիրոջ կողմից մուտքագրված tuple-ի զույգ թվերը (առանց կրկնության) oգտվելով set-երի հատկությունից։ "
   ]
  },
  {
   "cell_type": "code",
   "execution_count": 17,
   "metadata": {
    "colab": {},
    "colab_type": "code",
    "id": "vAxnEan27ZjH"
   },
   "outputs": [
    {
     "name": "stdout",
     "output_type": "stream",
     "text": [
      "2\n"
     ]
    }
   ],
   "source": []
  },
  {
   "cell_type": "code",
   "execution_count": null,
   "metadata": {},
   "outputs": [],
   "source": []
  }
 ],
 "metadata": {
  "colab": {
   "collapsed_sections": [],
   "name": "HW2_Data_Structures.ipynb",
   "provenance": []
  },
  "kernelspec": {
   "display_name": "Python 3 (ipykernel)",
   "language": "python",
   "name": "python3"
  },
  "language_info": {
   "codemirror_mode": {
    "name": "ipython",
    "version": 3
   },
   "file_extension": ".py",
   "mimetype": "text/x-python",
   "name": "python",
   "nbconvert_exporter": "python",
   "pygments_lexer": "ipython3",
   "version": "3.8.10"
  }
 },
 "nbformat": 4,
 "nbformat_minor": 1
}
