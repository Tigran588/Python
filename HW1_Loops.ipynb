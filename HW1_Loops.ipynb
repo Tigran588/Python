{
 "cells": [
  {
   "cell_type": "markdown",
   "metadata": {
    "id": "Z2LhYNT8HigC"
   },
   "source": [
    "Ստորև գրված առաջադրանքները կատարելու վերջնաժամկետը **27.07.2020 16:00** է։ Առաջադրանքները կատարելուց հետո, պետք է \n",
    "\n",
    "1. ներբեռնեք այս ֆայլը ձեր համակարգիչ (`File` $\\to$ `Download .ipynb`)\n",
    "2. վերնագրին ավելացնեք ձեր անուն, ազգանունը լատինատառ, օրինակ՝ *HW1_Loops_NshanPotikyan.ipynb* ֆորմատով\n",
    "3. ուղարկեք ֆայլը **nshanp@fast.foundation** հասցեին` նամակի թեմա (subject) դաշտում գրելով **HW1**\n",
    "\n",
    "**Ուշադրություն**․ Նշված պայմաններին չբավարարելու դեպքում ձեր աշխատանքը չի գնահատվի։"
   ]
  },
  {
   "cell_type": "markdown",
   "metadata": {
    "id": "mUHLJQsJaMNt"
   },
   "source": [
    "# Exercises"
   ]
  },
  {
   "cell_type": "markdown",
   "metadata": {
    "id": "GCEodKTbRd_r"
   },
   "source": [
    "## Conditionals"
   ]
  },
  {
   "cell_type": "markdown",
   "metadata": {
    "id": "YUaFYy8OIHWp"
   },
   "source": [
    "Problem1. (3 points) Write a program that asks the user to provide an integer that specifies a person's age, and according to that value print whether the person is a **child** (0-14), **young** (15-24), **adult** (25-64) or **senior** (more than 64).\n",
    "\n",
    "  Գրել ծրագիր, որը օգտատիրոջից վերցնում է տվյալ անձի տարիքը որպես ամբողջ թիվ և կախված այդ թվից տպում է **child** (0-14), **young** (15-24), **adult** (25-64) or **senior** (more than 64)։ "
   ]
  },
  {
   "cell_type": "code",
   "execution_count": 10,
   "metadata": {
    "id": "xrSVUy31IHeV"
   },
   "outputs": [
    {
     "name": "stdout",
     "output_type": "stream",
     "text": [
      "enter year: 24\n",
      "24 year is leap\n"
     ]
    }
   ],
   "source": [
    "'''\n",
    "a = int(input(\"enter age: \"))\n",
    "if (a>=0 and a < 15):\n",
    "    print(\"child\")\n",
    "elif(a>=15 and a <25):\n",
    "    print(\"young\")\n",
    "elif(a>= 25 and a< 65):\n",
    "    print(\"adult\")\n",
    "elif(a >= 65):\n",
    "    print(\"senior\")\n",
    "'''\n",
    "year = int(input(\"enter year: \"))\n",
    "if((year%4 == 0 and year % 100 != 0) or year %400 == 0):\n",
    "    print(year,\"year is leap\")\n",
    "else:\n",
    "    print(year,\"year is not lip\")\n"
   ]
  },
  {
   "cell_type": "markdown",
   "metadata": {
    "id": "FgcH-562IHlB"
   },
   "source": [
    "Problem2. (9 points) A year is a leap year (նահանջ տարի) if it is divisible by 4, except that years divisible by 100 are not leap years\n",
    "unless they are also divisible by 400. Write a program that asks the user for a year and prints\n",
    "out whether it is a leap year or not.\n",
    "\n",
    "  Տարին *նահանջ տարի* է, եթե տարեթիվը բաժանվում է 4-ի, բացառությամբ այն տարեթվերի, որոնք բաժանվում են 100-ի և չեն բաժանվում 400-ի վրա։ Գրել ծրագիր, որը վերցնում է օգտատիրոջ ներմուծած տարեթիվը և տպում արդյոք դա նահանջ տարի է, թե չէ։"
   ]
  },
  {
   "cell_type": "markdown",
   "metadata": {
    "id": "KMqAiNsGIHsU"
   },
   "source": [
    "##### "
   ]
  },
  {
   "cell_type": "markdown",
   "metadata": {
    "id": "IicCIcQvIHxY"
   },
   "source": [
    "Problem3. (3 points) Write a program that asks the user to provide three numbers. The the program should check whether the third number is the product of the first two, and if so it should display **True**, otherwise **False**. For example, in case of $2,4,8$ the output should be True because $2\\cdot 4=8$\n",
    "\n",
    "Գրել ծրագիր, որը օգտատիրոջից վերցնում է 3 թվեր և ստուգում՝ արդյոք երրորդ թիվը առաջին երկուսի արտադրյալն է, թե ոչ։ Առաջին դեպքում պետք է տպել **True**, հակառակ դեպքում՝ **False**։ Օրինակ՝ $2,4,8$ թվերի դեպքում կլինի **True**, քանի որ $2\\cdot 4=8$"
   ]
  },
  {
   "cell_type": "code",
   "execution_count": 12,
   "metadata": {
    "id": "gW2JdxzWIH4g"
   },
   "outputs": [
    {
     "name": "stdout",
     "output_type": "stream",
     "text": [
      "input number a: 2\n",
      "input number b: 3\n",
      "input number c: 6\n",
      "True\n"
     ]
    }
   ],
   "source": [
    "a = float(input(\"input number a: \"))\n",
    "b = float(input(\"input number b: \"))\n",
    "c = float(input(\"input number c: \"))\n",
    "if( c == a*b):\n",
    "    print(True)\n",
    "else:\n",
    "    print(False)"
   ]
  },
  {
   "cell_type": "markdown",
   "metadata": {
    "id": "MEC70di4IH_O"
   },
   "source": [
    "Problem4. (9 points) Write a program that asks the user for an hour between 1 and 12, asks them to enter **am** or **pm** [[1]](https://en.wikipedia.org/wiki/12-hour_clock),\n",
    "and asks them how many hours into the future they want to go. Print out what the hour will be after adding the last number, printing *am* or *pm* as appropriate. An example is shown\n",
    "below.\n",
    "\n",
    "  Գրել ծրագիր, որում օգտատերը ներմուծում է 1-12 թիվ (որպես ժամ), ինչպես նաև `am` կամ `pm` (իմանալ ավելին [այստեղ](https://en.wikipedia.org/wiki/12-hour_clock))։ Այնուհետև օգտատիրոջից վերցնում է մի թիվ, որը ցույց է տալիս թե քանի ժամ է ուզում գումարել սկզբնական ժամին։ Ծրագիրը պետք է վերադարձնի ժամերի գումարը և նշի արդյոք դա `am` է, թե `pm`: Օրինակ՝ \n",
    "\n",
    "\n",
    "*Enter hour: 8* \n",
    "\n",
    "*am (1) or pm (2)? 1*\n",
    "\n",
    "*How many hours ahead? 5*\n",
    "\n",
    "*New hour: 1 pm*"
   ]
  },
  {
   "cell_type": "code",
   "execution_count": 1,
   "metadata": {
    "id": "wU6-9X9zIIFe"
   },
   "outputs": [
    {
     "name": "stdout",
     "output_type": "stream",
     "text": [
      "enter hour: 6\n",
      "enter AM or PM: am\n",
      "enter summ: 39\n",
      "45 pm"
     ]
    }
   ],
   "source": [
    "time = int(input(\"enter hour: \"))\n",
    "a = input(\"enter AM or PM: \")\n",
    "summ = int(input(\"enter summ: \"))\n",
    "if (a == \"am\"):\n",
    "    if(time + summ < 12):\n",
    "        print(time,\"am\",end =\"\")\n",
    "    elif(summ < 12 and time + summ > 12):\n",
    "        print(time + summ, \"pm\")\n",
    "    elif(summ >12 and summ <24 ):\n",
    "        print(summ + time,\"am\")\n",
    "    elif(summ > 24 and summ%24 <12 and summ + time >12 ):\n",
    "        print(time + summ,\"am\",end = \"\")\n",
    "        \n",
    "    elif(summ > 12 and (summ)%24 >12 and summ%24 < 24):\n",
    "        print(time+summ,\"pm\",end = '')"
   ]
  },
  {
   "cell_type": "markdown",
   "metadata": {
    "id": "DX4939I0Kdqt"
   },
   "source": [
    "Problem5. (4 points) A company decided to give bonus of $5\\%$ to those employees whose experience in the company is more than $5$ years.\n",
    "Ask the user for their salary and number of working years and print the net bonus amount, otherwise print **No bonus**.\n",
    "\n",
    "  Ինչ-որ ընկերություն որոշել է տրամադրել $5\\%$ բոնուս այն աշխատակիցներին, ովքեր աշխատանքային փորձը գերազանցում է 5 տարին։ Օգտատիրոջ կողմից մուտքագրված աշխատավարձի և աշխատանքային տարիների տվյալի հիման վրա անհրաժեշտ է հաշվել և տպել ստացվելիք զուտ բոնուսի չափը, հակառակ դեպքում տպել **No bonus**։"
   ]
  },
  {
   "cell_type": "code",
   "execution_count": 3,
   "metadata": {
    "id": "bAKqzpv6KfDJ"
   },
   "outputs": [
    {
     "name": "stdout",
     "output_type": "stream",
     "text": [
      "enter experience: 7\n",
      "enter money: 300000\n",
      "15000.0dram"
     ]
    }
   ],
   "source": [
    "exp = int(input(\"enter experience: \"))\n",
    "m = float(input(\"enter money: \"))\n",
    "if exp > 5:\n",
    "    print((m/100)*5,end = \"dram\")"
   ]
  },
  {
   "cell_type": "markdown",
   "metadata": {
    "id": "0N7CjkxwY3Jj"
   },
   "source": [
    "## while loop"
   ]
  },
  {
   "cell_type": "markdown",
   "metadata": {
    "id": "DyI6E4pMY3TW"
   },
   "source": [
    "Problem6. (9 points) Rewrite the code using a **while** loop to accomplish the same thing.\n",
    "\n",
    "  Գրել նշված ծրագիրը **while** ցիկլով։\n",
    "\n",
    "`for i in range(1, 51):`\n",
    "\n",
    "           `print(i)`\n"
   ]
  },
  {
   "cell_type": "code",
   "execution_count": 4,
   "metadata": {
    "id": "xXnFBwF6Y3aG"
   },
   "outputs": [
    {
     "name": "stdout",
     "output_type": "stream",
     "text": [
      "1\n",
      "2\n",
      "3\n",
      "4\n",
      "5\n",
      "6\n",
      "7\n",
      "8\n",
      "9\n",
      "10\n",
      "11\n",
      "12\n",
      "13\n",
      "14\n",
      "15\n",
      "16\n",
      "17\n",
      "18\n",
      "19\n",
      "20\n",
      "21\n",
      "22\n",
      "23\n",
      "24\n",
      "25\n",
      "26\n",
      "27\n",
      "28\n",
      "29\n",
      "30\n",
      "31\n",
      "32\n",
      "33\n",
      "34\n",
      "35\n",
      "36\n",
      "37\n",
      "38\n",
      "39\n",
      "40\n",
      "41\n",
      "42\n",
      "43\n",
      "44\n",
      "45\n",
      "46\n",
      "47\n",
      "48\n",
      "49\n",
      "50\n",
      "51\n"
     ]
    }
   ],
   "source": [
    "i  = 1\n",
    "while i<52:\n",
    "    print(i)\n",
    "    i += 1\n",
    "    "
   ]
  },
  {
   "cell_type": "markdown",
   "metadata": {
    "id": "LN3WNPA8Y3fE"
   },
   "source": [
    "Problem7. (9 points) Write a program with **while** loop, to play the following game. The player starts with $\\$100$. On each\n",
    "turn a coin is flipped and the player has to guess heads or tails. The player wins $\\$9$ for each\n",
    "correct guess and loses $\\$10$ for each incorrect guess. The game ends either when the player\n",
    "runs out of money or gets to $\\$200$.\n",
    "\n",
    "  Գրել ծրագիր **while** ցիկլով, որը կխաղա հետևյալ խաղը․ խաղացողը սկսում է $\\$100$-ով և յուրաքանչյուր քայլում նետվում է մետաղադրամ, իսկ խաղացողը պետք է գուշակի արդյոք ղուշ է ստացվել, թե գիր։ Յուրաքանչյուր ճիշտ գուշակածի համար խաղացողը ստանում է $\\$9$ և կորցնում է $\\$10$ յուրաքանչյուր սխալի դեպքում։ Խաղն ավարտվում է, եթե խաղացողը կորցնում է ամբողջ գումարը կամ հավաքում է $\\$200$:"
   ]
  },
  {
   "cell_type": "code",
   "execution_count": 1,
   "metadata": {
    "id": "c78pu3CXY3j1"
   },
   "outputs": [
    {
     "name": "stdout",
     "output_type": "stream",
     "text": [
      "if 1 uremn gir,if 2 uremn xush1\n",
      "109\n",
      "if 1 uremn gir,if 2 uremn xush1\n",
      "118\n",
      "end of game\n"
     ]
    }
   ],
   "source": [
    "import random\n",
    "money = 200\n",
    "\n",
    "while(  money <200 and money > 0 ):\n",
    "    a = eval(input(\"if 1 uremn gir,if 2 uremn xush\"))\n",
    "    b = random.randint(1,2)\n",
    "    if (a== b):\n",
    "        money += 9\n",
    "    else:\n",
    "        money -= 10\n",
    "    print(money)\n",
    "else:\n",
    "    print(\"end of game\")"
   ]
  },
  {
   "cell_type": "markdown",
   "metadata": {
    "id": "5Q2uHy0LY3od"
   },
   "source": [
    "1\n",
    "1# Problem8. (9 points) Write a program with **while** loop to create the multiplication table (from 1 to 10) of the given number by the user.\n",
    "\n",
    "  Գրել ծրագիր **while** ցիկլով, որը կտպի օգտատիրոջ կողմից տրված թվի բազմապատկման աղյուսակը (թիվը բազմապատկած 1-ից 10 ամբողջ թվերով)։ Օրինակ՝ 2 թվի համար կլինի\n",
    "\n",
    "  `2 x 1 = 2`\n",
    "\n",
    "  `2 x 2 = 4`\n",
    "\n",
    "  `2 x 3 = 6`\n",
    "\n",
    "  `...`\n",
    "\n",
    "  `2 x 10 = 20`\n",
    "\n"
   ]
  },
  {
   "cell_type": "code",
   "execution_count": 8,
   "metadata": {
    "id": "jTHfgLx8Y3uR"
   },
   "outputs": [
    {
     "name": "stdout",
     "output_type": "stream",
     "text": [
      "enter number: 6\n",
      "1*6=6\n",
      "2*6=12\n",
      "3*6=18\n",
      "4*6=24\n",
      "5*6=30\n",
      "6*6=36\n",
      "7*6=42\n",
      "8*6=48\n",
      "9*6=54\n",
      "10*6=60\n"
     ]
    }
   ],
   "source": [
    "a = int(input(\"enter number: \"))\n",
    "i = 1\n",
    "while (i < 11):\n",
    "    print(f\"{i}*{a}={i*a}\")\n",
    "    i += 1\n",
    "    "
   ]
  },
  {
   "cell_type": "markdown",
   "metadata": {
    "id": "htmsWR2NZtlP"
   },
   "source": [
    "## for loop"
   ]
  },
  {
   "cell_type": "markdown",
   "metadata": {
    "id": "47iO-RfmZtsK"
   },
   "source": [
    "Problem9. (9 points) Write a program that uses a for loop to print the numbers 100, 98, 96, . . . , 4, 2.\n",
    "\n",
    "  Գրել ծրագիր, որը օգտագործելով **for** ցիկլ կտպի թվերի հետևյալ հաջորդականությունը 100, 98, 96, . . . , 4, 2․"
   ]
  },
  {
   "cell_type": "code",
   "execution_count": 11,
   "metadata": {
    "id": "t1aU-LZrZtxF"
   },
   "outputs": [
    {
     "name": "stdout",
     "output_type": "stream",
     "text": [
      "100\n",
      "98\n",
      "96\n",
      "94\n",
      "92\n",
      "90\n",
      "88\n",
      "86\n",
      "84\n",
      "82\n",
      "80\n",
      "78\n",
      "76\n",
      "74\n",
      "72\n",
      "70\n",
      "68\n",
      "66\n",
      "64\n",
      "62\n",
      "60\n",
      "58\n",
      "56\n",
      "54\n",
      "52\n",
      "50\n",
      "48\n",
      "46\n",
      "44\n",
      "42\n",
      "40\n",
      "38\n",
      "36\n",
      "34\n",
      "32\n",
      "30\n",
      "28\n",
      "26\n",
      "24\n",
      "22\n",
      "20\n",
      "18\n",
      "16\n",
      "14\n",
      "12\n",
      "10\n",
      "8\n",
      "6\n",
      "4\n",
      "2\n"
     ]
    }
   ],
   "source": [
    "i = 100\n",
    "while i >= 2:\n",
    "    print(i)\n",
    "    i -= 2"
   ]
  },
  {
   "cell_type": "markdown",
   "metadata": {
    "id": "OQ5QTqmrZxbV"
   },
   "source": [
    "Problem10. (9 points) Write a program that asks the user for their name and how many times to print it. The program\n",
    "should print out the user's name the specified number of times on the same line separated with a space.\n",
    "\n",
    "  Գրել ծրագիր, որը կվերցնի օգտատիրոջ անունը և մի թիվ, որը կներկայացնի թե քանի անգամ պետք է տպել այդ անունը։ Ծրագիրը պետք է տպի այդ անունը նշված քանակությամբ նույն տողում (բացատով առանձնացված)։"
   ]
  },
  {
   "cell_type": "code",
   "execution_count": 2,
   "metadata": {
    "id": "-2gUnWUnZxfl"
   },
   "outputs": [
    {
     "name": "stdout",
     "output_type": "stream",
     "text": [
      "enter stringTiko\n",
      "enter number: 3\n",
      "TikoTikoTiko TikoTikoTiko TikoTikoTiko "
     ]
    }
   ],
   "source": [
    "name = input(\"enter string\" )\n",
    "number = int(input(\"enter number: \"))\n",
    "for i in range(number):\n",
    "    print(name*number,end = \" \")"
   ]
  },
  {
   "cell_type": "markdown",
   "metadata": {
    "id": "S74SK5tHZxj5"
   },
   "source": [
    "Problem11. (9 points) The Fibonacci numbers are the sequence below, where the first two numbers are 1, and each\n",
    "number thereafter is the sum of the two preceding numbers. Write a program that asks the\n",
    "user how many Fibonacci numbers to print and then prints that many.\n",
    "\n",
    "  Ֆիբոնաչիի թվերի հաջորդականությունը այնպիսին է, որ առաջին երկու թվերը 1 են, իսկ մնացած թվերը ստացվում ենք նախորդ երկուսի գումարից։ Գրել ծրագիր, որը տպում է օգտատիրոջ կողմից նշված քանակությամբ ֆիբոնաչիի հաջորդականության թվեր առանձնացված ստորակետով, օրինակ՝ 11-ի համար կլինի այսպես․ \n",
    "$$1, 1, 2, 3, 5, 8, 13, 21, 34, 55, 89$$"
   ]
  },
  {
   "cell_type": "code",
   "execution_count": 1,
   "metadata": {
    "colab": {
     "base_uri": "https://localhost:8080/",
     "height": 35
    },
    "executionInfo": {
     "elapsed": 3334,
     "status": "ok",
     "timestamp": 1595863554541,
     "user": {
      "displayName": "Nshan Potikyan",
      "photoUrl": "https://lh3.googleusercontent.com/a-/AOh14GgwEEDvEOwXSKYbrUPj7UT4cqoOH73Ij4jb4412=s64",
      "userId": "01488034774237415337"
     },
     "user_tz": -240
    },
    "id": "Jce7Z8LAZxnr",
    "outputId": "eed6882f-af80-43ef-d5a3-c34773d65fdf"
   },
   "outputs": [
    {
     "name": "stdout",
     "output_type": "stream",
     "text": [
      "enter number fib: -1\n",
      "no fib numbers\n"
     ]
    }
   ],
   "source": [
    "n = int(input(\"enter number fib: \"))\n",
    "a = 1\n",
    "b = 1\n",
    "if n > 2:\n",
    "    print(a,b,sep = \",\",end=\",\")\n",
    "    for i in range(n-2):\n",
    "        c = a+b\n",
    "        a = b\n",
    "        b = c\n",
    "    print(c,end = \",\")\n",
    "elif n == 2:\n",
    "    print(a,b, sep= \",\")\n",
    "elif n == 1:\n",
    "    print(a)\n",
    "else:\n",
    "    print(\"no fib numbers\")\n",
    "\n",
    "    "
   ]
  },
  {
   "cell_type": "markdown",
   "metadata": {
    "id": "chqWLQtkZxro"
   },
   "source": [
    "#### Problem12. (9 points) Write a program that asks the user to enter a value $n$, and then prints the value for $1+\\frac{1}{2}+\\frac{1}{3}+\\ldots+\\frac{1}{n}$. \n",
    "\n",
    "  Գրել ծրագիր, որը օգտատիրոջ կողմից մուտքագրված $n$-ի համար կհաշվի հետևյալ արտահայտությունը $1+\\frac{1}{2}+\\frac{1}{3}+\\ldots+\\frac{1}{n}$ և կտպի ստացված արժեքը։\n"
   ]
  },
  {
   "cell_type": "code",
   "execution_count": 5,
   "metadata": {
    "id": "9zb_Cd3FZ9Ra"
   },
   "outputs": [
    {
     "name": "stdout",
     "output_type": "stream",
     "text": [
      "enter number n: 3\n",
      "1.8333333333333333\n"
     ]
    }
   ],
   "source": [
    "n = int(input(\"enter number n: \"))\n",
    "a = 0\n",
    "for i in range(1,n+1):\n",
    "    a += 1/i\n",
    "print(a)"
   ]
  },
  {
   "cell_type": "markdown",
   "metadata": {
    "id": "gM-DuhoCZ9WE"
   },
   "source": [
    "Problem13. (9 points) Write a program to compute the sum $1-2+3-4+\\ldots+1999-2000$ using a **for** loop.\n",
    "\n",
    "  Գրել ծրագիր, որը կհաշվի հետևյալ գումարը $1-2+3-4+\\ldots+1999-2000$ օգտագործելով **for** ցիկլը։"
   ]
  },
  {
   "cell_type": "code",
   "execution_count": 8,
   "metadata": {
    "id": "xkuGxtT8Z9an"
   },
   "outputs": [
    {
     "name": "stdout",
     "output_type": "stream",
     "text": [
      "-10000\n"
     ]
    }
   ],
   "source": [
    "s = 0\n",
    "for i in range(1,20001,2):\n",
    "    s += i-(i+1)\n",
    "print(s)\n",
    "    "
   ]
  },
  {
   "cell_type": "code",
   "execution_count": null,
   "metadata": {},
   "outputs": [],
   "source": []
  },
  {
   "cell_type": "code",
   "execution_count": null,
   "metadata": {},
   "outputs": [],
   "source": []
  }
 ],
 "metadata": {
  "colab": {
   "collapsed_sections": [],
   "name": "HW1_Loops.ipynb",
   "provenance": []
  },
  "kernelspec": {
   "display_name": "Python 3 (ipykernel)",
   "language": "python",
   "name": "python3"
  },
  "language_info": {
   "codemirror_mode": {
    "name": "ipython",
    "version": 3
   },
   "file_extension": ".py",
   "mimetype": "text/x-python",
   "name": "python",
   "nbconvert_exporter": "python",
   "pygments_lexer": "ipython3",
   "version": "3.8.10"
  }
 },
 "nbformat": 4,
 "nbformat_minor": 1
}
